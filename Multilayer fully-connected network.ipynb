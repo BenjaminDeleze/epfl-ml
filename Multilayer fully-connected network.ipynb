{
 "cells": [
  {
   "cell_type": "markdown",
   "metadata": {},
   "source": [
    "## Multilayer fully connected network"
   ]
  },
  {
   "cell_type": "code",
   "execution_count": 1,
   "metadata": {},
   "outputs": [
    {
     "name": "stdout",
     "output_type": "stream",
     "text": [
      "Data loaded\n",
      "It is a dictionary with keys: ['pixels', 'overfeat', 'labels', 'names', 'allow_pickle']\n"
     ]
    }
   ],
   "source": [
    "import numpy as np\n",
    "import os\n",
    "\n",
    "# Load data\n",
    "with np.load(os.path.join('data', 'cifar4-train.npz'), allow_pickle=False) as npz_file:\n",
    "    # Load items into a dictionary\n",
    "    cifar = dict(npz_file.items())\n",
    "    \n",
    "print('Data loaded')\n",
    "print('It is a dictionary with keys:', list(cifar.keys()))"
   ]
  },
  {
   "cell_type": "code",
   "execution_count": 2,
   "metadata": {},
   "outputs": [
    {
     "name": "stdout",
     "output_type": "stream",
     "text": [
      "Train: (3200, 4096) (3200,)\n",
      "Valid: (800, 4096) (800,)\n",
      "Test: (1000, 4096) (1000,)\n"
     ]
    }
   ],
   "source": [
    "from sklearn.model_selection import train_test_split\n",
    "from sklearn.preprocessing import StandardScaler\n",
    "    \n",
    "# Create train set\n",
    "X_train, X_test, y_train, y_test = train_test_split(\n",
    "    # Convert uint8 pixel values to float\n",
    "    cifar['overfeat'].astype(np.float32), cifar['labels'],\n",
    "    test_size=1800, random_state=0)\n",
    "\n",
    "# Create validation and test sets\n",
    "X_valid, X_test, y_valid, y_test = train_test_split(\n",
    "    X_test, y_test, test_size=1000, random_state=0)\n",
    "\n",
    "# Rescale input data\n",
    "scaler = StandardScaler()\n",
    "X_train = scaler.fit_transform(X_train)\n",
    "X_valid = scaler.transform(X_valid)\n",
    "X_test = scaler.transform(X_test)\n",
    "\n",
    "print('Train:', X_train.shape, y_train.shape)\n",
    "print('Valid:', X_valid.shape, y_valid.shape)\n",
    "print('Test:', X_test.shape, y_test.shape)"
   ]
  },
  {
   "cell_type": "code",
   "execution_count": 3,
   "metadata": {},
   "outputs": [],
   "source": [
    "# Batch generator\n",
    "def get_batches(X, y, batch_size):\n",
    "    # Shuffle X,y\n",
    "    shuffled_idx = np.arange(len(y)) # 1,2,...,n\n",
    "    np.random.shuffle(shuffled_idx)\n",
    "    \n",
    "    # Enumerate indexes by steps of batch_size\n",
    "    # i: 0, b, 2b, 3b, 4b, .. where b is the batch size\n",
    "    for i in range(0, len(y), batch_size):\n",
    "        # Batch indexes\n",
    "        batch_idx = shuffled_idx[i:i+batch_size]\n",
    "        yield X[batch_idx], y[batch_idx]"
   ]
  },
  {
   "cell_type": "code",
   "execution_count": 4,
   "metadata": {},
   "outputs": [],
   "source": [
    "import tensorflow as tf\n",
    "\n",
    "# Create new graph\n",
    "graph = tf.Graph()\n",
    "\n",
    "with graph.as_default():\n",
    "    # Create placeholders\n",
    "    X = tf.placeholder(dtype=tf.float32, shape=[None, 4096])\n",
    "    y = tf.placeholder(dtype=tf.int32, shape=[None])\n",
    "    \n",
    "    # Hidden layer with 64 units\n",
    "    hidden = tf.layers.dense(\n",
    "        X, 64, activation=tf.nn.relu, # ReLU\n",
    "        kernel_initializer=tf.variance_scaling_initializer(scale=2, seed=0),\n",
    "        bias_initializer=tf.zeros_initializer(),\n",
    "        name='hidden'\n",
    "    )\n",
    "    \n",
    "    # Create training placeholder\n",
    "    training = tf.placeholder(dtype=tf.bool)\n",
    "    \n",
    "    # Apply dropout\n",
    "    hidden = tf.layers.dropout(hidden,rate=0.5,seed=0, training=training)\n",
    "    \n",
    "    # Output layer\n",
    "    logits = tf.layers.dense(\n",
    "        hidden, 4, activation=None, # No activation function\n",
    "        kernel_initializer=tf.variance_scaling_initializer(scale=1, seed=0),\n",
    "        bias_initializer=tf.zeros_initializer(),\n",
    "        name='output'\n",
    "    )\n",
    "    \n",
    "    # Get weights of the first hidden layer\n",
    "    with tf.variable_scope('hidden', reuse=True):\n",
    "        W1 = tf.get_variable('kernel')\n",
    "        \n",
    "    # Get weights of the output layer\n",
    "    with tf.variable_scope('output', reuse=True):\n",
    "        W2 = tf.get_variable('kernel')\n",
    "        \n",
    "    # Loss fuction: mean cross-entropy\n",
    "    mean_ce = tf.reduce_mean(\n",
    "        tf.nn.sparse_softmax_cross_entropy_with_logits(\n",
    "            labels=y, logits=logits))\n",
    "    \n",
    "    # L2 term\n",
    "    l2_term_1 = tf.nn.l2_loss(W1)\n",
    "    l2_term_2 = tf.nn.l2_loss(W2)\n",
    "    \n",
    "    # Regularization strength\n",
    "    alpha = tf.placeholder(dtype=tf.float32)\n",
    "    \n",
    "    # Loss function\n",
    "    loss = mean_ce + alpha*(l2_term_1 + l2_term_2)\n",
    "    \n",
    "    # Gradient descent\n",
    "    lr = tf.placeholder(dtype=tf.float32)\n",
    "    gd = tf.train.GradientDescentOptimizer(learning_rate=lr)\n",
    "\n",
    "    # Minimize cross-entropy\n",
    "    train_op = gd.minimize(loss)\n",
    "    \n",
    "    # Compute predictions and accuracy\n",
    "    predictions = tf.argmax(logits, axis=1, output_type=tf.int32)\n",
    "    is_correct = tf.equal(y, predictions)\n",
    "    accuracy = tf.reduce_mean(tf.cast(is_correct, dtype=tf.float32))"
   ]
  },
  {
   "cell_type": "code",
   "execution_count": 9,
   "metadata": {
    "scrolled": false
   },
   "outputs": [
    {
     "name": "stdout",
     "output_type": "stream",
     "text": [
      "Epoch 1 - valid: 0.783 train: 0.605 (mean)\n",
      "Epoch 2 - valid: 0.801 train: 0.760 (mean)\n",
      "Epoch 3 - valid: 0.812 train: 0.797 (mean)\n",
      "Epoch 4 - valid: 0.814 train: 0.817 (mean)\n",
      "Epoch 5 - valid: 0.825 train: 0.821 (mean)\n",
      "Epoch 6 - valid: 0.825 train: 0.839 (mean)\n",
      "Epoch 7 - valid: 0.831 train: 0.841 (mean)\n",
      "Epoch 8 - valid: 0.829 train: 0.861 (mean)\n",
      "Epoch 9 - valid: 0.827 train: 0.869 (mean)\n",
      "Epoch 10 - valid: 0.831 train: 0.860 (mean)\n",
      "Epoch 11 - valid: 0.827 train: 0.876 (mean)\n",
      "Epoch 12 - valid: 0.834 train: 0.882 (mean)\n",
      "Epoch 13 - valid: 0.834 train: 0.881 (mean)\n",
      "Epoch 14 - valid: 0.832 train: 0.883 (mean)\n",
      "Epoch 15 - valid: 0.824 train: 0.887 (mean)\n",
      "Epoch 16 - valid: 0.826 train: 0.901 (mean)\n",
      "Epoch 17 - valid: 0.840 train: 0.892 (mean)\n",
      "Epoch 18 - valid: 0.839 train: 0.899 (mean)\n",
      "Epoch 19 - valid: 0.835 train: 0.899 (mean)\n",
      "Epoch 20 - valid: 0.826 train: 0.908 (mean)\n",
      "Epoch 21 - valid: 0.837 train: 0.907 (mean)\n",
      "Epoch 22 - valid: 0.839 train: 0.912 (mean)\n",
      "Epoch 23 - valid: 0.834 train: 0.917 (mean)\n",
      "Epoch 24 - valid: 0.836 train: 0.917 (mean)\n",
      "Epoch 25 - valid: 0.837 train: 0.920 (mean)\n",
      "Epoch 26 - valid: 0.841 train: 0.917 (mean)\n",
      "Epoch 27 - valid: 0.840 train: 0.919 (mean)\n",
      "Epoch 28 - valid: 0.837 train: 0.927 (mean)\n",
      "Epoch 29 - valid: 0.835 train: 0.931 (mean)\n",
      "Epoch 30 - valid: 0.839 train: 0.929 (mean)\n",
      "Epoch 31 - valid: 0.836 train: 0.938 (mean)\n",
      "Epoch 32 - valid: 0.840 train: 0.937 (mean)\n",
      "Epoch 33 - valid: 0.841 train: 0.938 (mean)\n",
      "Epoch 34 - valid: 0.837 train: 0.936 (mean)\n",
      "Epoch 35 - valid: 0.839 train: 0.936 (mean)\n",
      "Epoch 36 - valid: 0.835 train: 0.936 (mean)\n",
      "Epoch 37 - valid: 0.839 train: 0.944 (mean)\n",
      "Epoch 38 - valid: 0.837 train: 0.939 (mean)\n",
      "Epoch 39 - valid: 0.841 train: 0.939 (mean)\n",
      "Epoch 40 - valid: 0.837 train: 0.946 (mean)\n",
      "Epoch 41 - valid: 0.841 train: 0.946 (mean)\n",
      "Epoch 42 - valid: 0.839 train: 0.947 (mean)\n",
      "Epoch 43 - valid: 0.842 train: 0.951 (mean)\n",
      "Epoch 44 - valid: 0.837 train: 0.948 (mean)\n",
      "Epoch 45 - valid: 0.837 train: 0.954 (mean)\n",
      "Epoch 46 - valid: 0.842 train: 0.957 (mean)\n",
      "Epoch 47 - valid: 0.841 train: 0.958 (mean)\n",
      "Epoch 48 - valid: 0.829 train: 0.953 (mean)\n",
      "Epoch 49 - valid: 0.840 train: 0.960 (mean)\n",
      "Epoch 50 - valid: 0.835 train: 0.962 (mean)\n"
     ]
    }
   ],
   "source": [
    "# Validation accuracy\n",
    "valid_acc_values = []\n",
    "\n",
    "with tf.Session(graph=graph) as sess:\n",
    "    # Initialize variables\n",
    "    sess.run(tf.global_variables_initializer())\n",
    "    \n",
    "    # Set seed\n",
    "    np.random.seed(0)\n",
    "    \n",
    "    # Train several epochs\n",
    "    for epoch in range(50):\n",
    "        # Accuracy values (train) after each batch\n",
    "        batch_acc = []\n",
    "        \n",
    "        # Get batches of data\n",
    "        for X_batch, y_batch in get_batches(X_train, y_train, 64):\n",
    "            # Run training and evaluate accuracy\n",
    "            _, acc_value = sess.run([train_op, accuracy], feed_dict={\n",
    "                X: X_batch,\n",
    "                y: y_batch,\n",
    "                lr: 0.01,\n",
    "                training: True,\n",
    "                alpha: 0.001\n",
    "            })\n",
    "            \n",
    "            # Save accuracy (current batch)\n",
    "            batch_acc.append(acc_value)\n",
    "\n",
    "        # Evaluate validation accuracy\n",
    "        valid_acc = sess.run(accuracy, feed_dict={\n",
    "            X: X_valid,\n",
    "            y: y_valid,\n",
    "            training: False\n",
    "        })\n",
    "        valid_acc_values.append(valid_acc)\n",
    "        \n",
    "        # Print progress\n",
    "        print('Epoch {} - valid: {:.3f} train: {:.3f} (mean)'.format(\n",
    "            epoch+1, valid_acc, np.mean(batch_acc)\n",
    "        ))\n",
    "                \n",
    "    # Weights of the hidden layer\n",
    "    weights_hidden = W1.eval()\n",
    "    weights_output = W2.eval()"
   ]
  },
  {
   "cell_type": "code",
   "execution_count": 10,
   "metadata": {},
   "outputs": [
    {
     "data": {
      "image/png": "[encoded data removed]",
      "text/plain": [
       "<matplotlib.figure.Figure at 0x1a1d377dd8>"
      ]
     },
     "metadata": {},
     "output_type": "display_data"
    }
   ],
   "source": [
    "%matplotlib inline\n",
    "import matplotlib.pyplot as plt\n",
    "\n",
    "# Plot accuracy values\n",
    "plt.plot(valid_acc_values)\n",
    "plt.title('Validation accuracy: {:.3f} (mean last 50)'.format(\n",
    "    np.mean(valid_acc_values[-50:])\n",
    "))\n",
    "plt.xlabel('epoch')\n",
    "plt.ylabel('accuracy')\n",
    "plt.show()"
   ]
  },
  {
   "cell_type": "markdown",
   "metadata": {},
   "source": [
    "#### Test accuracy"
   ]
  },
  {
   "cell_type": "code",
   "execution_count": 13,
   "metadata": {},
   "outputs": [
    {
     "name": "stdout",
     "output_type": "stream",
     "text": [
      "Epoch 1 - test: 0.750 test: 0.460 (mean)\n",
      "Epoch 2 - test: 0.819 test: 0.663 (mean)\n",
      "Epoch 3 - test: 0.840 test: 0.738 (mean)\n",
      "Epoch 4 - test: 0.868 test: 0.764 (mean)\n",
      "Epoch 5 - test: 0.881 test: 0.797 (mean)\n",
      "Epoch 6 - test: 0.892 test: 0.817 (mean)\n",
      "Epoch 7 - test: 0.903 test: 0.816 (mean)\n",
      "Epoch 8 - test: 0.908 test: 0.834 (mean)\n",
      "Epoch 9 - test: 0.911 test: 0.847 (mean)\n",
      "Epoch 10 - test: 0.920 test: 0.857 (mean)\n",
      "Epoch 11 - test: 0.932 test: 0.858 (mean)\n",
      "Epoch 12 - test: 0.930 test: 0.863 (mean)\n",
      "Epoch 13 - test: 0.938 test: 0.882 (mean)\n",
      "Epoch 14 - test: 0.945 test: 0.864 (mean)\n",
      "Epoch 15 - test: 0.950 test: 0.883 (mean)\n",
      "Epoch 16 - test: 0.952 test: 0.883 (mean)\n",
      "Epoch 17 - test: 0.955 test: 0.890 (mean)\n",
      "Epoch 18 - test: 0.958 test: 0.902 (mean)\n",
      "Epoch 19 - test: 0.954 test: 0.898 (mean)\n",
      "Epoch 20 - test: 0.964 test: 0.901 (mean)\n",
      "Epoch 21 - test: 0.963 test: 0.900 (mean)\n",
      "Epoch 22 - test: 0.966 test: 0.905 (mean)\n",
      "Epoch 23 - test: 0.967 test: 0.912 (mean)\n",
      "Epoch 24 - test: 0.966 test: 0.916 (mean)\n",
      "Epoch 25 - test: 0.966 test: 0.913 (mean)\n",
      "Epoch 26 - test: 0.969 test: 0.927 (mean)\n",
      "Epoch 27 - test: 0.971 test: 0.920 (mean)\n",
      "Epoch 28 - test: 0.976 test: 0.929 (mean)\n",
      "Epoch 29 - test: 0.979 test: 0.938 (mean)\n",
      "Epoch 30 - test: 0.981 test: 0.935 (mean)\n",
      "Epoch 31 - test: 0.979 test: 0.931 (mean)\n",
      "Epoch 32 - test: 0.981 test: 0.930 (mean)\n",
      "Epoch 33 - test: 0.986 test: 0.936 (mean)\n",
      "Epoch 34 - test: 0.984 test: 0.944 (mean)\n",
      "Epoch 35 - test: 0.985 test: 0.945 (mean)\n",
      "Epoch 36 - test: 0.984 test: 0.933 (mean)\n",
      "Epoch 37 - test: 0.984 test: 0.948 (mean)\n",
      "Epoch 38 - test: 0.986 test: 0.942 (mean)\n",
      "Epoch 39 - test: 0.989 test: 0.948 (mean)\n",
      "Epoch 40 - test: 0.989 test: 0.952 (mean)\n",
      "Epoch 41 - test: 0.989 test: 0.943 (mean)\n",
      "Epoch 42 - test: 0.991 test: 0.957 (mean)\n",
      "Epoch 43 - test: 0.991 test: 0.956 (mean)\n",
      "Epoch 44 - test: 0.994 test: 0.953 (mean)\n",
      "Epoch 45 - test: 0.992 test: 0.949 (mean)\n",
      "Epoch 46 - test: 0.993 test: 0.955 (mean)\n",
      "Epoch 47 - test: 0.995 test: 0.961 (mean)\n",
      "Epoch 48 - test: 0.996 test: 0.961 (mean)\n",
      "Epoch 49 - test: 0.995 test: 0.960 (mean)\n",
      "Epoch 50 - test: 0.995 test: 0.967 (mean)\n"
     ]
    }
   ],
   "source": [
    "# test accuracy\n",
    "test_acc_values = []\n",
    "\n",
    "with tf.Session(graph=graph) as sess:\n",
    "    # Initialize variables\n",
    "    sess.run(tf.global_variables_initializer())\n",
    "    \n",
    "    # Set seed\n",
    "    np.random.seed(0)\n",
    "    \n",
    "    # Train several epochs\n",
    "    for epoch in range(50):\n",
    "        # Accuracy values (test) after each batch\n",
    "        batch_acc = []\n",
    "        \n",
    "        # Get batches of data\n",
    "        for X_batch, y_batch in get_batches(X_test, y_test, 64):\n",
    "            # Run training and evaluate accuracy\n",
    "            _, acc_value = sess.run([train_op, accuracy], feed_dict={\n",
    "                X: X_batch,\n",
    "                y: y_batch,\n",
    "                lr: 0.01,\n",
    "                training: True,\n",
    "                alpha: 0.001\n",
    "            })\n",
    "            \n",
    "            # Save accuracy (current batch)\n",
    "            batch_acc.append(acc_value)\n",
    "\n",
    "        # Evaluate validation accuracy\n",
    "        test_acc = sess.run(accuracy, feed_dict={\n",
    "            X: X_test,\n",
    "            y: y_test,\n",
    "            training: False\n",
    "        })\n",
    "        test_acc_values.append(test_acc)\n",
    "        \n",
    "        # Print progress\n",
    "        print('Epoch {} - test: {:.3f} test: {:.3f} (mean)'.format(\n",
    "            epoch+1, test_acc, np.mean(batch_acc)\n",
    "        ))\n",
    "                \n",
    "    # Weights of the hidden layer\n",
    "    weights_hidden = W1.eval()\n",
    "    weights_output = W2.eval()"
   ]
  },
  {
   "cell_type": "code",
   "execution_count": 14,
   "metadata": {},
   "outputs": [
    {
     "data": {
      "image/png": "[encoded data removed]",
      "text/plain": [
       "<matplotlib.figure.Figure at 0x1a1cecca20>"
      ]
     },
     "metadata": {},
     "output_type": "display_data"
    }
   ],
   "source": [
    "%matplotlib inline\n",
    "import matplotlib.pyplot as plt\n",
    "\n",
    "# Plot accuracy values\n",
    "plt.plot(test_acc_values)\n",
    "plt.title('Test accuracy: {:.3f} (mean last 50)'.format(\n",
    "    np.mean(test_acc_values[-50:])\n",
    "))\n",
    "plt.xlabel('epoch')\n",
    "plt.ylabel('accuracy')\n",
    "plt.show()"
   ]
  },
  {
   "cell_type": "code",
   "execution_count": null,
   "metadata": {},
   "outputs": [],
   "source": []
  }
 ],
 "metadata": {
  "kernelspec": {
   "display_name": "Python 3",
   "language": "python",
   "name": "python3"
  },
  "language_info": {
   "codemirror_mode": {
    "name": "ipython",
    "version": 3
   },
   "file_extension": ".py",
   "mimetype": "text/x-python",
   "name": "python",
   "nbconvert_exporter": "python",
   "pygments_lexer": "ipython3",
   "version": "3.6.4"
  }
 },
 "nbformat": 4,
 "nbformat_minor": 2
}

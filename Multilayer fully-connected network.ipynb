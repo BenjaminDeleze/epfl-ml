{
 "cells": [
  {
   "cell_type": "markdown",
   "metadata": {},
   "source": [
    "## Multilayer fully connected network"
   ]
  },
  {
   "cell_type": "code",
   "execution_count": 30,
   "metadata": {},
   "outputs": [
    {
     "name": "stdout",
     "output_type": "stream",
     "text": [
      "Data loaded\n",
      "It is a dictionary with keys: ['pixels', 'overfeat', 'labels', 'names', 'allow_pickle']\n"
     ]
    }
   ],
   "source": [
    "import numpy as np\n",
    "import os\n",
    "\n",
    "# Load data\n",
    "with np.load(os.path.join('data', 'cifar4-train.npz'), allow_pickle=False) as npz_file:\n",
    "    # Load items into a dictionary\n",
    "    cifar = dict(npz_file.items())\n",
    "    \n",
    "print('Data loaded')\n",
    "print('It is a dictionary with keys:', list(cifar.keys()))"
   ]
  },
  {
   "cell_type": "code",
   "execution_count": 31,
   "metadata": {},
   "outputs": [
    {
     "name": "stdout",
     "output_type": "stream",
     "text": [
      "Train: (3200, 4096) (3200,)\n",
      "Valid: (800, 4096) (800,)\n",
      "Test: (1000, 4096) (1000,)\n"
     ]
    }
   ],
   "source": [
    "from sklearn.model_selection import train_test_split\n",
    "from sklearn.preprocessing import StandardScaler\n",
    "    \n",
    "# Create train set\n",
    "X_train, X_test, y_train, y_test = train_test_split(\n",
    "    # Convert uint8 pixel values to float\n",
    "    cifar['overfeat'].astype(np.float32), cifar['labels'],\n",
    "    test_size=1800, random_state=0)\n",
    "\n",
    "# Create validation and test sets\n",
    "X_valid, X_test, y_valid, y_test = train_test_split(\n",
    "    X_test, y_test, test_size=1000, random_state=0)\n",
    "\n",
    "# Rescale input data\n",
    "scaler = StandardScaler()\n",
    "X_train = scaler.fit_transform(X_train)\n",
    "X_valid = scaler.transform(X_valid)\n",
    "X_test = scaler.transform(X_test)\n",
    "\n",
    "print('Train:', X_train.shape, y_train.shape)\n",
    "print('Valid:', X_valid.shape, y_valid.shape)\n",
    "print('Test:', X_test.shape, y_test.shape)"
   ]
  },
  {
   "cell_type": "code",
   "execution_count": 32,
   "metadata": {},
   "outputs": [],
   "source": [
    "# Batch generator\n",
    "def get_batches(X, y, batch_size):\n",
    "    # Shuffle X,y\n",
    "    shuffled_idx = np.arange(len(y)) # 1,2,...,n\n",
    "    np.random.shuffle(shuffled_idx)\n",
    "    \n",
    "    # Enumerate indexes by steps of batch_size\n",
    "    # i: 0, b, 2b, 3b, 4b, .. where b is the batch size\n",
    "    for i in range(0, len(y), batch_size):\n",
    "        # Batch indexes\n",
    "        batch_idx = shuffled_idx[i:i+batch_size]\n",
    "        yield X[batch_idx], y[batch_idx]"
   ]
  },
  {
   "cell_type": "code",
   "execution_count": 33,
   "metadata": {},
   "outputs": [],
   "source": [
    "import tensorflow as tf\n",
    "\n",
    "# Create new graph\n",
    "graph = tf.Graph()\n",
    "\n",
    "with graph.as_default():\n",
    "    # Create placeholders\n",
    "    X = tf.placeholder(dtype=tf.float32, shape=[None, 4096])\n",
    "    y = tf.placeholder(dtype=tf.int32, shape=[None])\n",
    "    \n",
    "    # Hidden layer with 64 units\n",
    "    hidden = tf.layers.dense(\n",
    "        X, 64, activation=tf.nn.relu, # ReLU\n",
    "        kernel_initializer=tf.variance_scaling_initializer(scale=2, seed=0),\n",
    "        bias_initializer=tf.zeros_initializer(),\n",
    "        name='hidden'\n",
    "    )\n",
    "    \n",
    "    # Create training placeholder\n",
    "    training = tf.placeholder(dtype=tf.bool)\n",
    "    \n",
    "    # Apply dropout\n",
    "    hidden = tf.layers.dropout(hidden,rate=0.5,seed=0, training=training)\n",
    "    \n",
    "    # Output layer\n",
    "    logits = tf.layers.dense(\n",
    "        hidden, 4, activation=None, # No activation function\n",
    "        kernel_initializer=tf.variance_scaling_initializer(scale=1, seed=0),\n",
    "        bias_initializer=tf.zeros_initializer(),\n",
    "        name='output'\n",
    "    )\n",
    "    \n",
    "    # Get weights of the first hidden layer\n",
    "    with tf.variable_scope('hidden', reuse=True):\n",
    "        W1 = tf.get_variable('kernel')\n",
    "        \n",
    "    # Get weights of the output layer\n",
    "    with tf.variable_scope('output', reuse=True):\n",
    "        W2 = tf.get_variable('kernel')\n",
    "        \n",
    "    # Loss fuction: mean cross-entropy\n",
    "    mean_ce = tf.reduce_mean(\n",
    "        tf.nn.sparse_softmax_cross_entropy_with_logits(\n",
    "            labels=y, logits=logits))\n",
    "    \n",
    "    # L2 term\n",
    "    l2_term_1 = tf.nn.l2_loss(W1)\n",
    "    l2_term_2 = tf.nn.l2_loss(W2)\n",
    "    \n",
    "    # Regularization strength\n",
    "    alpha = tf.placeholder(dtype=tf.float32)\n",
    "    \n",
    "    # Loss function\n",
    "    loss = mean_ce + alpha*(l2_term_1 + l2_term_2)\n",
    "    \n",
    "    # Gradient descent\n",
    "    lr = tf.placeholder(dtype=tf.float32)\n",
    "    gd = tf.train.GradientDescentOptimizer(learning_rate=lr)\n",
    "\n",
    "    # Minimize cross-entropy\n",
    "    train_op = gd.minimize(loss)\n",
    "    \n",
    "    # Compute predictions and accuracy\n",
    "    predictions = tf.argmax(logits, axis=1, output_type=tf.int32)\n",
    "    is_correct = tf.equal(y, predictions)\n",
    "    accuracy = tf.reduce_mean(tf.cast(is_correct, dtype=tf.float32))"
   ]
  },
  {
   "cell_type": "code",
   "execution_count": 41,
   "metadata": {
    "scrolled": false
   },
   "outputs": [
    {
     "name": "stdout",
     "output_type": "stream",
     "text": [
      "Epoch 1 - valid: 0.785 train: 0.606 (mean)\n",
      "Epoch 2 - valid: 0.801 train: 0.763 (mean)\n",
      "Epoch 3 - valid: 0.811 train: 0.800 (mean)\n",
      "Epoch 4 - valid: 0.816 train: 0.819 (mean)\n",
      "Epoch 5 - valid: 0.822 train: 0.825 (mean)\n",
      "Epoch 6 - valid: 0.826 train: 0.835 (mean)\n",
      "Epoch 7 - valid: 0.827 train: 0.841 (mean)\n",
      "Epoch 8 - valid: 0.831 train: 0.855 (mean)\n",
      "Epoch 9 - valid: 0.827 train: 0.859 (mean)\n",
      "Epoch 10 - valid: 0.835 train: 0.851 (mean)\n",
      "Epoch 11 - valid: 0.834 train: 0.862 (mean)\n",
      "Epoch 12 - valid: 0.831 train: 0.866 (mean)\n",
      "Epoch 13 - valid: 0.827 train: 0.863 (mean)\n",
      "Epoch 14 - valid: 0.826 train: 0.872 (mean)\n",
      "Epoch 15 - valid: 0.829 train: 0.870 (mean)\n",
      "Epoch 16 - valid: 0.831 train: 0.879 (mean)\n",
      "Epoch 17 - valid: 0.834 train: 0.873 (mean)\n",
      "Epoch 18 - valid: 0.830 train: 0.871 (mean)\n",
      "Epoch 19 - valid: 0.837 train: 0.875 (mean)\n",
      "Epoch 20 - valid: 0.830 train: 0.888 (mean)\n",
      "Epoch 21 - valid: 0.827 train: 0.885 (mean)\n",
      "Epoch 22 - valid: 0.827 train: 0.875 (mean)\n",
      "Epoch 23 - valid: 0.830 train: 0.891 (mean)\n",
      "Epoch 24 - valid: 0.829 train: 0.888 (mean)\n",
      "Epoch 25 - valid: 0.832 train: 0.887 (mean)\n",
      "Epoch 26 - valid: 0.834 train: 0.885 (mean)\n",
      "Epoch 27 - valid: 0.829 train: 0.886 (mean)\n",
      "Epoch 28 - valid: 0.831 train: 0.888 (mean)\n",
      "Epoch 29 - valid: 0.827 train: 0.894 (mean)\n",
      "Epoch 30 - valid: 0.830 train: 0.894 (mean)\n",
      "Epoch 31 - valid: 0.832 train: 0.892 (mean)\n",
      "Epoch 32 - valid: 0.829 train: 0.887 (mean)\n",
      "Epoch 33 - valid: 0.836 train: 0.896 (mean)\n",
      "Epoch 34 - valid: 0.834 train: 0.892 (mean)\n",
      "Epoch 35 - valid: 0.834 train: 0.892 (mean)\n",
      "Epoch 36 - valid: 0.836 train: 0.894 (mean)\n",
      "Epoch 37 - valid: 0.830 train: 0.897 (mean)\n",
      "Epoch 38 - valid: 0.839 train: 0.892 (mean)\n",
      "Epoch 39 - valid: 0.839 train: 0.902 (mean)\n",
      "Epoch 40 - valid: 0.836 train: 0.895 (mean)\n",
      "Epoch 41 - valid: 0.835 train: 0.893 (mean)\n",
      "Epoch 42 - valid: 0.832 train: 0.893 (mean)\n",
      "Epoch 43 - valid: 0.836 train: 0.894 (mean)\n",
      "Epoch 44 - valid: 0.836 train: 0.897 (mean)\n",
      "Epoch 45 - valid: 0.836 train: 0.899 (mean)\n",
      "Epoch 46 - valid: 0.834 train: 0.900 (mean)\n",
      "Epoch 47 - valid: 0.834 train: 0.898 (mean)\n",
      "Epoch 48 - valid: 0.836 train: 0.901 (mean)\n",
      "Epoch 49 - valid: 0.835 train: 0.903 (mean)\n",
      "Epoch 50 - valid: 0.836 train: 0.900 (mean)\n"
     ]
    }
   ],
   "source": [
    "# Validation accuracy\n",
    "valid_acc_values = []\n",
    "\n",
    "with tf.Session(graph=graph) as sess:\n",
    "    # Initialize variables\n",
    "    sess.run(tf.global_variables_initializer())\n",
    "    \n",
    "    # Set seed\n",
    "    np.random.seed(0)\n",
    "    \n",
    "    # Train several epochs\n",
    "    for epoch in range(50):\n",
    "        # Accuracy values (train) after each batch\n",
    "        batch_acc = []\n",
    "        \n",
    "        # Get batches of data\n",
    "        for X_batch, y_batch in get_batches(X_train, y_train, 64):\n",
    "            # Run training and evaluate accuracy\n",
    "            _, acc_value = sess.run([train_op, accuracy], feed_dict={\n",
    "                X: X_batch,\n",
    "                y: y_batch,\n",
    "                lr: 0.01,\n",
    "                training: True,\n",
    "                alpha: 0.1\n",
    "            })\n",
    "            \n",
    "            # Save accuracy (current batch)\n",
    "            batch_acc.append(acc_value)\n",
    "\n",
    "        # Evaluate validation accuracy\n",
    "        valid_acc = sess.run(accuracy, feed_dict={\n",
    "            X: X_valid,\n",
    "            y: y_valid,\n",
    "            training: False\n",
    "        })\n",
    "        valid_acc_values.append(valid_acc)\n",
    "        \n",
    "        # Print progress\n",
    "        print('Epoch {} - valid: {:.3f} train: {:.3f} (mean)'.format(\n",
    "            epoch+1, valid_acc, np.mean(batch_acc)\n",
    "        ))\n",
    "                \n",
    "    # Weights of the hidden layer\n",
    "    weights_hidden = W1.eval()\n",
    "    weights_output = W2.eval()"
   ]
  },
  {
   "cell_type": "code",
   "execution_count": 42,
   "metadata": {},
   "outputs": [
    {
     "data": {
      "image/png": "[encoded data removed]",
      "text/plain": [
       "<matplotlib.figure.Figure at 0x10e4c0588>"
      ]
     },
     "metadata": {},
     "output_type": "display_data"
    }
   ],
   "source": [
    "%matplotlib inline\n",
    "import matplotlib.pyplot as plt\n",
    "\n",
    "# Plot accuracy values\n",
    "plt.plot(valid_acc_values)\n",
    "plt.title('Validation accuracy: {:.3f} (mean last 50)'.format(\n",
    "    np.mean(valid_acc_values[-50:])\n",
    "))\n",
    "plt.xlabel('epoch')\n",
    "plt.ylabel('accuracy')\n",
    "plt.show()"
   ]
  },
  {
   "cell_type": "markdown",
   "metadata": {},
   "source": [
    "#### Try different values for the learning rate, regularization strength and number of epochs. \n",
    "#### Once you are satisfied with the results, make a final evaluation of your network using the test set,\n",
    "#### i.e., don't use it to tune the parameters."
   ]
  },
  {
   "cell_type": "code",
   "execution_count": null,
   "metadata": {},
   "outputs": [],
   "source": []
  }
 ],
 "metadata": {
  "kernelspec": {
   "display_name": "Python 3",
   "language": "python",
   "name": "python3"
  },
  "language_info": {
   "codemirror_mode": {
    "name": "ipython",
    "version": 3
   },
   "file_extension": ".py",
   "mimetype": "text/x-python",
   "name": "python",
   "nbconvert_exporter": "python",
   "pygments_lexer": "ipython3",
   "version": "3.6.4"
  }
 },
 "nbformat": 4,
 "nbformat_minor": 2
}

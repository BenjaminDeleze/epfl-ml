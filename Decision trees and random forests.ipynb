{
 "cells": [
  {
   "cell_type": "markdown",
   "metadata": {},
   "source": [
    "## Decision tree classifier"
   ]
  },
  {
   "cell_type": "code",
   "execution_count": 1,
   "metadata": {},
   "outputs": [
    {
     "name": "stdout",
     "output_type": "stream",
     "text": [
      "Data loaded\n",
      "It is a dictionary with keys: ['pixels', 'overfeat', 'labels', 'names', 'allow_pickle']\n"
     ]
    }
   ],
   "source": [
    "import numpy as np\n",
    "import os\n",
    "import pandas as pd\n",
    "%matplotlib inline\n",
    "import matplotlib.pyplot as plt\n",
    "\n",
    "# Load the numpy .npz file\n",
    "with np.load(os.path.join('data', 'cifar4-train.npz'), allow_pickle=False) as data:\n",
    "    cifar4_data = dict(data.items())\n",
    "    \n",
    "print('Data loaded')\n",
    "print('It is a dictionary with keys:', list(cifar4_data.keys()))"
   ]
  },
  {
   "cell_type": "code",
   "execution_count": 2,
   "metadata": {},
   "outputs": [
    {
     "name": "stdout",
     "output_type": "stream",
     "text": [
      "X shape: (5000, 4096)\n",
      "y shape: (5000,)\n"
     ]
    }
   ],
   "source": [
    "X = cifar4_data['overfeat']\n",
    "y = cifar4_data['labels']\n",
    "\n",
    "print('X shape:',X.shape)\n",
    "print('y shape:', y.shape)"
   ]
  },
  {
   "cell_type": "code",
   "execution_count": 3,
   "metadata": {},
   "outputs": [
    {
     "name": "stdout",
     "output_type": "stream",
     "text": [
      "X shape: (5000, 164)\n"
     ]
    }
   ],
   "source": [
    "from sklearn.decomposition import PCA\n",
    "\n",
    "# PCA to reduce dimensions. \n",
    "# Using 164 as this is the result from the previous exercise ensuring 90% of PVE explained\n",
    "pca = PCA(n_components=164)\n",
    "X = pca.fit_transform(X)\n",
    "print('X shape:',X.shape)"
   ]
  },
  {
   "cell_type": "markdown",
   "metadata": {},
   "source": [
    "From the data exploration we use 164 features and we apply it to the data set."
   ]
  },
  {
   "cell_type": "code",
   "execution_count": 7,
   "metadata": {},
   "outputs": [
    {
     "name": "stdout",
     "output_type": "stream",
     "text": [
      "X_train: (4000, 164) float32\n",
      "y_train: (4000,) int64\n",
      "X_train_s: (3200, 164) float32\n",
      "y_train_s: (3200,) int64\n",
      "X_val: (800, 164) float32\n",
      "y_val: (800,) int64\n",
      "X_test: (1000, 164) float32\n",
      "y_test: (1000,) int64\n"
     ]
    }
   ],
   "source": [
    "# Splitting the data\n",
    "from sklearn.model_selection import train_test_split\n",
    "\n",
    "# Split data\n",
    "X_train, X_test, y_train, y_test = train_test_split(X, y,train_size=4000,test_size=1000,\n",
    "                                          random_state=0, stratify=y)\n",
    "# Split train data again\n",
    "X_train_s, X_val, y_train_s, y_val = train_test_split(X_train, y_train,train_size=3200,test_size=800,\n",
    "                                          random_state=0, stratify=y_train)\n",
    "\n",
    "# checking the shapes\n",
    "print('X_train:', X_train.shape, X_train.dtype)\n",
    "print('y_train:', y_train.shape, y_train.dtype)\n",
    "print('X_train_s:', X_train_s.shape, X_train_s.dtype)\n",
    "print('y_train_s:', y_train_s.shape, y_train_s.dtype)\n",
    "print('X_val:', X_val.shape, X_val.dtype)\n",
    "print('y_val:', y_val.shape, y_val.dtype)\n",
    "print('X_test:', X_test.shape, X_test.dtype)\n",
    "print('y_test:', y_test.shape, y_test.dtype)"
   ]
  },
  {
   "cell_type": "code",
   "execution_count": 8,
   "metadata": {},
   "outputs": [
    {
     "data": {
      "text/plain": [
       "0.4475"
      ]
     },
     "execution_count": 8,
     "metadata": {},
     "output_type": "execute_result"
    }
   ],
   "source": [
    "from sklearn.tree import DecisionTreeClassifier\n",
    "\n",
    "# Create decision tree \n",
    "dt = DecisionTreeClassifier(criterion='gini', max_depth=1, random_state=0)\n",
    "\n",
    "# Fit decision tree\n",
    "dt.fit(X_train_s,y_train_s)\n",
    "\n",
    "# Get score\n",
    "dt.score(X_val,y_val)"
   ]
  },
  {
   "cell_type": "markdown",
   "metadata": {},
   "source": [
    "Deeper depth with grid search"
   ]
  },
  {
   "cell_type": "code",
   "execution_count": 23,
   "metadata": {
    "scrolled": true
   },
   "outputs": [
    {
     "data": {
      "image/png": "[encoded data removed]",
      "text/plain": [
       "<matplotlib.figure.Figure at 0x1a28e76cf8>"
      ]
     },
     "metadata": {},
     "output_type": "display_data"
    }
   ],
   "source": [
    "# Define a set of reasonable values\n",
    "depth_values = np.arange(1,20,1)\n",
    "\n",
    "# Save accuracy on validation set\n",
    "train_scores = []\n",
    "validation_scores = []\n",
    "\n",
    "# Grid search\n",
    "for depth in depth_values:\n",
    "    dt = DecisionTreeClassifier(criterion='gini', max_depth=depth, random_state=0)\n",
    "    dt.fit(X_train_s,y_train_s)\n",
    "    \n",
    "    # Accuracy\n",
    "    accuracy_train = dt.score(X_train_s,y_train_s)\n",
    "    accuracy_val = dt.score(X_val,y_val)\n",
    "    \n",
    "    \n",
    "    # Save train accuracy\n",
    "    train_scores.append({\n",
    "        'depth': depth,\n",
    "        'accuracy': accuracy_train\n",
    "    })\n",
    "\n",
    "    \n",
    "    # Save validation accuracy\n",
    "    validation_scores.append({\n",
    "        'depth': depth,\n",
    "        'accuracy': accuracy_val\n",
    "    })\n",
    "\n",
    "\n",
    "# Create DataFrame with train scores\n",
    "train_scores_df = pd.DataFrame(train_scores)    \n",
    "    \n",
    "# Create DataFrame with validation scores\n",
    "val_scores_df = pd.DataFrame(validation_scores)\n",
    "\n",
    "# Plot train and validation curve\n",
    "plt.plot(train_scores_df['depth'],train_scores_df['accuracy'], color='blue',label='train score')\n",
    "plt.plot(val_scores_df['depth'],val_scores_df['accuracy'], color='red',label='validation score')\n",
    "plt.title('Accuracy scores')\n",
    "plt.xlabel('depth')\n",
    "plt.ylabel('accuracy')\n",
    "plt.legend()\n",
    "plt.show()"
   ]
  },
  {
   "cell_type": "code",
   "execution_count": 32,
   "metadata": {},
   "outputs": [
    {
     "name": "stdout",
     "output_type": "stream",
     "text": [
      "Top accuracy on validation set: 0.6675  with depth: 5.0\n"
     ]
    }
   ],
   "source": [
    "# Best combination\n",
    "idx_max = val_scores_df.loc[val_scores_df['accuracy'].idxmax()]\n",
    "\n",
    "print('Top accuracy on validation set:',idx_max[0],\n",
    "      ' with depth:',idx_max[1])"
   ]
  },
  {
   "cell_type": "markdown",
   "metadata": {},
   "source": [
    "When we increase the complexity of the tree with its depth, we are overfitting. It is with a depth level of 5 we got the highest accuracy on the validation set - 67%.\n",
    "This reflects one of the main issues with decision trees, small trees are too simple (high bias) to model our data and larger ones tend to overfit (high variance)."
   ]
  },
  {
   "cell_type": "code",
   "execution_count": 33,
   "metadata": {},
   "outputs": [
    {
     "data": {
      "text/plain": [
       "0.66"
      ]
     },
     "execution_count": 33,
     "metadata": {},
     "output_type": "execute_result"
    }
   ],
   "source": [
    "# Fitting the tuned estimators on the entire train set\n",
    "dt = DecisionTreeClassifier(criterion='gini', max_depth=5, random_state=0)\n",
    "dt.fit(X_train,y_train)\n",
    "dt.score(X_test, y_test)"
   ]
  },
  {
   "cell_type": "markdown",
   "metadata": {},
   "source": [
    "Using the entire data set we get a 66% accuracy."
   ]
  },
  {
   "cell_type": "markdown",
   "metadata": {},
   "source": [
    "## Random forest classifier"
   ]
  },
  {
   "cell_type": "code",
   "execution_count": 35,
   "metadata": {},
   "outputs": [
    {
     "name": "stdout",
     "output_type": "stream",
     "text": [
      "[ 50 100 150 200]\n"
     ]
    }
   ],
   "source": [
    "n_trees = np.arange(50,201,50)\n",
    "print(n_trees)"
   ]
  },
  {
   "cell_type": "code",
   "execution_count": 37,
   "metadata": {},
   "outputs": [
    {
     "data": {
      "text/html": [
       "<div>\n",
       "<style scoped>\n",
       "    .dataframe tbody tr th:only-of-type {\n",
       "        vertical-align: middle;\n",
       "    }\n",
       "\n",
       "    .dataframe tbody tr th {\n",
       "        vertical-align: top;\n",
       "    }\n",
       "\n",
       "    .dataframe thead th {\n",
       "        text-align: right;\n",
       "    }\n",
       "</style>\n",
       "<table border=\"1\" class=\"dataframe\">\n",
       "  <thead>\n",
       "    <tr style=\"text-align: right;\">\n",
       "      <th></th>\n",
       "      <th>n estimators</th>\n",
       "      <th>validation accuracy</th>\n",
       "    </tr>\n",
       "  </thead>\n",
       "  <tbody>\n",
       "    <tr>\n",
       "      <th>0</th>\n",
       "      <td>50</td>\n",
       "      <td>0.73625</td>\n",
       "    </tr>\n",
       "    <tr>\n",
       "      <th>1</th>\n",
       "      <td>100</td>\n",
       "      <td>0.75625</td>\n",
       "    </tr>\n",
       "    <tr>\n",
       "      <th>2</th>\n",
       "      <td>150</td>\n",
       "      <td>0.76625</td>\n",
       "    </tr>\n",
       "    <tr>\n",
       "      <th>3</th>\n",
       "      <td>200</td>\n",
       "      <td>0.76500</td>\n",
       "    </tr>\n",
       "    <tr>\n",
       "      <th>4</th>\n",
       "      <td>250</td>\n",
       "      <td>0.78375</td>\n",
       "    </tr>\n",
       "  </tbody>\n",
       "</table>\n",
       "</div>"
      ],
      "text/plain": [
       "   n estimators  validation accuracy\n",
       "0            50              0.73625\n",
       "1           100              0.75625\n",
       "2           150              0.76625\n",
       "3           200              0.76500\n",
       "4           250              0.78375"
      ]
     },
     "execution_count": 37,
     "metadata": {},
     "output_type": "execute_result"
    }
   ],
   "source": [
    "from sklearn.ensemble import RandomForestClassifier\n",
    "\n",
    "# Define a set of reasonable values\n",
    "n_trees = np.arange(50,401,50)\n",
    "\n",
    "# Save accuracy on validation set\n",
    "\n",
    "validation_scores = []\n",
    "\n",
    "# Grid search\n",
    "for ensemble in n_trees:\n",
    "    rf = RandomForestClassifier(n_estimators=ensemble, max_depth=None, random_state=0 )\n",
    "    rf.fit(X_train_s,y_train_s)\n",
    "    \n",
    "    # Accuracy\n",
    "    accuracy_val = rf.score(X_val,y_val)\n",
    "    \n",
    "    # Save validation accuracy\n",
    "    validation_scores.append({\n",
    "        'n estimators': ensemble,\n",
    "        'validation accuracy': accuracy_val\n",
    "    })\n",
    "    \n",
    "# Create DataFrame with validation scores\n",
    "val_scores_df = pd.DataFrame(validation_scores)\n",
    "\n",
    "val_scores_df.head(10)"
   ]
  },
  {
   "cell_type": "code",
   "execution_count": 39,
   "metadata": {},
   "outputs": [
    {
     "name": "stdout",
     "output_type": "stream",
     "text": [
      "Top accuracy on validation set: 0.78375  with n estimators: 250.0\n"
     ]
    }
   ],
   "source": [
    "# Best combination\n",
    "idx_max = val_scores_df.loc[val_scores_df['validation accuracy'].idxmax()]\n",
    "\n",
    "print('Top accuracy on validation set:',idx_max[1],\n",
    "      ' with n estimators:',idx_max[0])"
   ]
  },
  {
   "cell_type": "markdown",
   "metadata": {},
   "source": [
    "Using the entire train set:"
   ]
  },
  {
   "cell_type": "code",
   "execution_count": 40,
   "metadata": {},
   "outputs": [
    {
     "data": {
      "text/plain": [
       "0.764"
      ]
     },
     "execution_count": 40,
     "metadata": {},
     "output_type": "execute_result"
    }
   ],
   "source": [
    "# Fitting the tuned estimators on the entire train set\n",
    "rf = RandomForestClassifier(n_estimators=250, max_depth=None, random_state=0 )\n",
    "rf.fit(X_train,y_train)\n",
    "rf.score(X_test, y_test)"
   ]
  },
  {
   "cell_type": "markdown",
   "metadata": {},
   "source": [
    "Accuracy values"
   ]
  },
  {
   "cell_type": "code",
   "execution_count": 41,
   "metadata": {},
   "outputs": [
    {
     "name": "stdout",
     "output_type": "stream",
     "text": [
      "Decision tree accuracy (test set): 66%\n",
      "Random forest accuracy (test set): 76%\n"
     ]
    }
   ],
   "source": [
    "print('Decision tree accuracy (test set): 66%')\n",
    "print('Random forest accuracy (test set): 76%')"
   ]
  },
  {
   "cell_type": "code",
   "execution_count": null,
   "metadata": {},
   "outputs": [],
   "source": []
  }
 ],
 "metadata": {
  "kernelspec": {
   "display_name": "Python 3",
   "language": "python",
   "name": "python3"
  },
  "language_info": {
   "codemirror_mode": {
    "name": "ipython",
    "version": 3
   },
   "file_extension": ".py",
   "mimetype": "text/x-python",
   "name": "python",
   "nbconvert_exporter": "python",
   "pygments_lexer": "ipython3",
   "version": "3.6.4"
  }
 },
 "nbformat": 4,
 "nbformat_minor": 2
}

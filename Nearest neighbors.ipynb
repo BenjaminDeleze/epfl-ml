{
 "cells": [
  {
   "cell_type": "markdown",
   "metadata": {},
   "source": [
    "## Nearest neighbors"
   ]
  },
  {
   "cell_type": "markdown",
   "metadata": {},
   "source": [
    "## Part I"
   ]
  },
  {
   "cell_type": "code",
   "execution_count": 1,
   "metadata": {},
   "outputs": [
    {
     "name": "stdout",
     "output_type": "stream",
     "text": [
      "Data loaded\n",
      "It is a dictionary with keys: ['pixels', 'overfeat', 'labels', 'names', 'allow_pickle']\n"
     ]
    }
   ],
   "source": [
    "import numpy as np\n",
    "import os\n",
    "import pandas as pd\n",
    "%matplotlib inline\n",
    "import matplotlib.pyplot as plt\n",
    "\n",
    "# Load the numpy .npz file\n",
    "with np.load(os.path.join('data', 'cifar4-train.npz'), allow_pickle=False) as data:\n",
    "    cifar4_data = dict(data.items())\n",
    "    \n",
    "print('Data loaded')\n",
    "print('It is a dictionary with keys:', list(cifar4_data.keys()))"
   ]
  },
  {
   "cell_type": "code",
   "execution_count": 2,
   "metadata": {},
   "outputs": [
    {
     "name": "stdout",
     "output_type": "stream",
     "text": [
      "X shape: (5000, 4096)\n",
      "y shape: (5000,)\n"
     ]
    }
   ],
   "source": [
    "X = cifar4_data['overfeat']\n",
    "y = cifar4_data['labels']\n",
    "\n",
    "print('X shape:',X.shape)\n",
    "print('y shape:', y.shape)"
   ]
  },
  {
   "cell_type": "code",
   "execution_count": 3,
   "metadata": {},
   "outputs": [
    {
     "name": "stdout",
     "output_type": "stream",
     "text": [
      "X shape: (5000, 164)\n"
     ]
    }
   ],
   "source": [
    "from sklearn.decomposition import PCA\n",
    "\n",
    "# PCA to reduce dimensions. \n",
    "# Using 164 as this is the result from the previous exercise ensuring 90% of PVE explained\n",
    "pca = PCA(n_components=164)\n",
    "X = pca.fit_transform(X)\n",
    "print('X shape:',X.shape)"
   ]
  },
  {
   "cell_type": "markdown",
   "metadata": {},
   "source": [
    "Number of dimensions have been reduced to 164."
   ]
  },
  {
   "cell_type": "code",
   "execution_count": 4,
   "metadata": {},
   "outputs": [],
   "source": [
    "from sklearn.neighbors import KNeighborsClassifier\n",
    "from sklearn.preprocessing import StandardScaler\n",
    "from sklearn.pipeline import Pipeline\n",
    "\n",
    "# Create the StandardScaler\n",
    "scaler = StandardScaler()\n",
    "\n",
    "# Create k-NN classifier\n",
    "knn = KNeighborsClassifier(algorithm='brute')\n",
    "\n",
    "# Create the pipeline\n",
    "pipe = Pipeline([('scaler', scaler), ('knn', knn)])"
   ]
  },
  {
   "cell_type": "code",
   "execution_count": 5,
   "metadata": {},
   "outputs": [
    {
     "name": "stdout",
     "output_type": "stream",
     "text": [
      "X_train: (4000, 164) float32\n",
      "y_train: (4000,) int64\n",
      "X_train_s: (3200, 164) float32\n",
      "y_train_s: (3200,) int64\n",
      "X_val: (800, 164) float32\n",
      "y_val: (800,) int64\n",
      "X_test: (1000, 164) float32\n",
      "y_test: (1000,) int64\n"
     ]
    }
   ],
   "source": [
    "# Splitting the data\n",
    "from sklearn.model_selection import train_test_split\n",
    "\n",
    "# Split data\n",
    "X_train, X_test, y_train, y_test = train_test_split(X, y,train_size=4000,test_size=1000,\n",
    "                                          random_state=0, stratify=y)\n",
    "# Split train data again\n",
    "X_train_s, X_val, y_train_s, y_val = train_test_split(X_train, y_train,train_size=3200,test_size=800,\n",
    "                                          random_state=0, stratify=y_train)\n",
    "\n",
    "# checking the shapes\n",
    "print('X_train:', X_train.shape, X_train.dtype)\n",
    "print('y_train:', y_train.shape, y_train.dtype)\n",
    "print('X_train_s:', X_train_s.shape, X_train_s.dtype)\n",
    "print('y_train_s:', y_train_s.shape, y_train_s.dtype)\n",
    "print('X_val:', X_val.shape, X_val.dtype)\n",
    "print('y_val:', y_val.shape, y_val.dtype)\n",
    "print('X_test:', X_test.shape, X_test.dtype)\n",
    "print('y_test:', y_test.shape, y_test.dtype)"
   ]
  },
  {
   "cell_type": "code",
   "execution_count": 6,
   "metadata": {},
   "outputs": [
    {
     "name": "stdout",
     "output_type": "stream",
     "text": [
      "k-nearest neighbors accuracy: 0.609\n"
     ]
    }
   ],
   "source": [
    "pipe.fit(X_train_s, y_train_s)\n",
    "\n",
    "# Evaluate on validation set\n",
    "accuracy = pipe.score(X_val, y_val)\n",
    "\n",
    "# Print accuracy\n",
    "print('k-nearest neighbors accuracy: {:.3f}'.format(accuracy))"
   ]
  },
  {
   "cell_type": "markdown",
   "metadata": {},
   "source": [
    "Tune **k** and **distance metric (L1 and L2)** using Grid Search"
   ]
  },
  {
   "cell_type": "code",
   "execution_count": 7,
   "metadata": {},
   "outputs": [
    {
     "data": {
      "text/html": [
       "<div>\n",
       "<style scoped>\n",
       "    .dataframe tbody tr th:only-of-type {\n",
       "        vertical-align: middle;\n",
       "    }\n",
       "\n",
       "    .dataframe tbody tr th {\n",
       "        vertical-align: top;\n",
       "    }\n",
       "\n",
       "    .dataframe thead th {\n",
       "        text-align: right;\n",
       "    }\n",
       "</style>\n",
       "<table border=\"1\" class=\"dataframe\">\n",
       "  <thead>\n",
       "    <tr style=\"text-align: right;\">\n",
       "      <th></th>\n",
       "      <th>distance metric</th>\n",
       "      <th>n neighbors</th>\n",
       "      <th>validation accuracy</th>\n",
       "    </tr>\n",
       "  </thead>\n",
       "  <tbody>\n",
       "    <tr>\n",
       "      <th>6</th>\n",
       "      <td>1</td>\n",
       "      <td>20</td>\n",
       "      <td>0.65125</td>\n",
       "    </tr>\n",
       "    <tr>\n",
       "      <th>3</th>\n",
       "      <td>2</td>\n",
       "      <td>10</td>\n",
       "      <td>0.63875</td>\n",
       "    </tr>\n",
       "    <tr>\n",
       "      <th>4</th>\n",
       "      <td>1</td>\n",
       "      <td>15</td>\n",
       "      <td>0.63125</td>\n",
       "    </tr>\n",
       "    <tr>\n",
       "      <th>8</th>\n",
       "      <td>1</td>\n",
       "      <td>25</td>\n",
       "      <td>0.62750</td>\n",
       "    </tr>\n",
       "    <tr>\n",
       "      <th>10</th>\n",
       "      <td>1</td>\n",
       "      <td>30</td>\n",
       "      <td>0.62750</td>\n",
       "    </tr>\n",
       "  </tbody>\n",
       "</table>\n",
       "</div>"
      ],
      "text/plain": [
       "    distance metric  n neighbors  validation accuracy\n",
       "6                 1           20              0.65125\n",
       "3                 2           10              0.63875\n",
       "4                 1           15              0.63125\n",
       "8                 1           25              0.62750\n",
       "10                1           30              0.62750"
      ]
     },
     "execution_count": 7,
     "metadata": {},
     "output_type": "execute_result"
    }
   ],
   "source": [
    "# Define a set of reasonable values\n",
    "k_values = np.arange(5, 105, 5)\n",
    "distance_types = [1,2]\n",
    "\n",
    "# Save accuracy on validation set\n",
    "validation_scores = []\n",
    "\n",
    "# Grid search\n",
    "for k in k_values:\n",
    "    for d in distance_types:\n",
    "        # Set hyperparameters\n",
    "        pipe.set_params(knn__n_neighbors = k, knn__p = d)\n",
    "        \n",
    "        # Fit a k-NN classifier\n",
    "        pipe.fit(X_train_s, y_train_s)\n",
    "        \n",
    "        # Evaluate on test set\n",
    "        accuracy = pipe.score(X_val, y_val)\n",
    "        \n",
    "        # Save accuracy\n",
    "        validation_scores.append({\n",
    "            'n neighbors': k,\n",
    "            'distance metric': d,\n",
    "            'validation accuracy': accuracy\n",
    "        })\n",
    "        \n",
    "# Create DataFrame with test scores\n",
    "scores_df = pd.DataFrame(validation_scores)\n",
    "\n",
    "# Top five scores\n",
    "scores_df.sort_values(by='validation accuracy', ascending=False).head()"
   ]
  },
  {
   "cell_type": "code",
   "execution_count": 8,
   "metadata": {},
   "outputs": [
    {
     "name": "stdout",
     "output_type": "stream",
     "text": [
      "Top accuracy on validation set: 0.65125  with k: 20.0  with distance metric: 1.0\n"
     ]
    }
   ],
   "source": [
    "# Best combination\n",
    "idx_max = scores_df.loc[scores_df['validation accuracy'].idxmax()]\n",
    "\n",
    "print('Top accuracy on validation set:',idx_max[2],\n",
    "      ' with k:',idx_max[1],\n",
    "      ' with distance metric:',idx_max[0])"
   ]
  },
  {
   "cell_type": "markdown",
   "metadata": {},
   "source": [
    "Fit the k-NN classifier with the tuned parameters to the entire train data and evaluate the accuracy on the test set."
   ]
  },
  {
   "cell_type": "code",
   "execution_count": 9,
   "metadata": {},
   "outputs": [
    {
     "name": "stdout",
     "output_type": "stream",
     "text": [
      "k-nearest neighbors accuracy: 0.582\n"
     ]
    }
   ],
   "source": [
    "# Create k-NN classifier\n",
    "knn = KNeighborsClassifier(n_neighbors=15,algorithm='brute',p=1)\n",
    "\n",
    "# Create the pipeline and fit it to training data\n",
    "pipe.fit(X_train, y_train)\n",
    "\n",
    "# Evaluate on test set\n",
    "accuracy = pipe.score(X_test, y_test)\n",
    "\n",
    "# Print accuracy\n",
    "print('k-nearest neighbors accuracy: {:.3f}'.format(accuracy))"
   ]
  },
  {
   "cell_type": "markdown",
   "metadata": {},
   "source": [
    "## Part II"
   ]
  },
  {
   "cell_type": "markdown",
   "metadata": {},
   "source": [
    "For the second task, pick an image from the test set and plot its 10 nearest neighbors from the train one.\n",
    "To achieve this, extract the PCA transformer and the  KNeighborsClassifier estimator from your pipeline.\n",
    "Apply PCA to your test image and pass the result to the kneighbors(X, n_neighbors) function of your k-NN estimator.\n",
    "You can take a look at its documentation on this page."
   ]
  },
  {
   "cell_type": "code",
   "execution_count": 21,
   "metadata": {},
   "outputs": [],
   "source": [
    "# Function to plot the i-th image from some X/y arrays\n",
    "def show_image(idx, X, y):\n",
    "    # Get image pixels from the input matrix X\n",
    "    flat_img = X[idx] \n",
    "    \n",
    "    img = flat_img.reshape(64, 64)\n",
    "    \n",
    "    # Print label using the output vector y\n",
    "    print('Label:', y[idx])\n",
    "    \n",
    "    # Plot image with pyplot\n",
    "    plt.imshow(img/255)\n",
    "    plt.show()"
   ]
  },
  {
   "cell_type": "code",
   "execution_count": 22,
   "metadata": {},
   "outputs": [
    {
     "ename": "ValueError",
     "evalue": "cannot reshape array of size 164 into shape (64,64)",
     "output_type": "error",
     "traceback": [
      "\u001b[0;31m---------------------------------------------------------------------------\u001b[0m",
      "\u001b[0;31mValueError\u001b[0m                                Traceback (most recent call last)",
      "\u001b[0;32m<ipython-input-22-97ff6bd7ea4e>\u001b[0m in \u001b[0;36m<module>\u001b[0;34m()\u001b[0m\n\u001b[1;32m      1\u001b[0m \u001b[0;31m# Show the first 5 images from the test set\u001b[0m\u001b[0;34m\u001b[0m\u001b[0;34m\u001b[0m\u001b[0m\n\u001b[1;32m      2\u001b[0m \u001b[0;32mfor\u001b[0m \u001b[0mimage\u001b[0m \u001b[0;32min\u001b[0m \u001b[0mrange\u001b[0m\u001b[0;34m(\u001b[0m\u001b[0;36m0\u001b[0m\u001b[0;34m,\u001b[0m\u001b[0;36m5\u001b[0m\u001b[0;34m)\u001b[0m\u001b[0;34m:\u001b[0m\u001b[0;34m\u001b[0m\u001b[0m\n\u001b[0;32m----> 3\u001b[0;31m     \u001b[0mshow_image\u001b[0m\u001b[0;34m(\u001b[0m\u001b[0mimage\u001b[0m\u001b[0;34m,\u001b[0m \u001b[0mX_test\u001b[0m\u001b[0;34m,\u001b[0m \u001b[0my_test\u001b[0m\u001b[0;34m)\u001b[0m\u001b[0;34m\u001b[0m\u001b[0m\n\u001b[0m",
      "\u001b[0;32m<ipython-input-21-1412145711cb>\u001b[0m in \u001b[0;36mshow_image\u001b[0;34m(idx, X, y)\u001b[0m\n\u001b[1;32m      4\u001b[0m     \u001b[0mflat_img\u001b[0m \u001b[0;34m=\u001b[0m \u001b[0mX\u001b[0m\u001b[0;34m[\u001b[0m\u001b[0midx\u001b[0m\u001b[0;34m]\u001b[0m\u001b[0;34m\u001b[0m\u001b[0m\n\u001b[1;32m      5\u001b[0m \u001b[0;34m\u001b[0m\u001b[0m\n\u001b[0;32m----> 6\u001b[0;31m     \u001b[0mimg\u001b[0m \u001b[0;34m=\u001b[0m \u001b[0mflat_img\u001b[0m\u001b[0;34m.\u001b[0m\u001b[0mreshape\u001b[0m\u001b[0;34m(\u001b[0m\u001b[0;36m64\u001b[0m\u001b[0;34m,\u001b[0m \u001b[0;36m64\u001b[0m\u001b[0;34m)\u001b[0m\u001b[0;34m\u001b[0m\u001b[0m\n\u001b[0m\u001b[1;32m      7\u001b[0m \u001b[0;34m\u001b[0m\u001b[0m\n\u001b[1;32m      8\u001b[0m     \u001b[0;31m# Print label using the output vector y\u001b[0m\u001b[0;34m\u001b[0m\u001b[0;34m\u001b[0m\u001b[0m\n",
      "\u001b[0;31mValueError\u001b[0m: cannot reshape array of size 164 into shape (64,64)"
     ]
    }
   ],
   "source": [
    "# Show the first 5 images from the test set\n",
    "for image in range(0,5):\n",
    "    show_image(image, X_test, y_test)"
   ]
  },
  {
   "cell_type": "code",
   "execution_count": null,
   "metadata": {},
   "outputs": [],
   "source": []
  }
 ],
 "metadata": {
  "kernelspec": {
   "display_name": "Python 3",
   "language": "python",
   "name": "python3"
  },
  "language_info": {
   "codemirror_mode": {
    "name": "ipython",
    "version": 3
   },
   "file_extension": ".py",
   "mimetype": "text/x-python",
   "name": "python",
   "nbconvert_exporter": "python",
   "pygments_lexer": "ipython3",
   "version": "3.6.4"
  }
 },
 "nbformat": 4,
 "nbformat_minor": 2
}

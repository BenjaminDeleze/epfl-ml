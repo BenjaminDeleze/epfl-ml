{
 "cells": [
  {
   "cell_type": "markdown",
   "metadata": {},
   "source": [
    "## Convolutional neural networks"
   ]
  },
  {
   "cell_type": "code",
   "execution_count": 9,
   "metadata": {},
   "outputs": [
    {
     "name": "stdout",
     "output_type": "stream",
     "text": [
      "Data loaded\n",
      "It is a dictionary with keys: ['pixels', 'overfeat', 'labels', 'names', 'allow_pickle']\n"
     ]
    }
   ],
   "source": [
    "import numpy as np\n",
    "import os\n",
    "\n",
    "# Load data\n",
    "with np.load(os.path.join('data', 'cifar4-train.npz'), allow_pickle=False) as npz_file:\n",
    "    cifar = dict(npz_file.items())\n",
    "    \n",
    "# Convert pixels into floating point numbers\n",
    "data = cifar['pixels'].astype(np.float32)\n",
    "\n",
    "# Rescale pixel values between -0.5 and 0.5\n",
    "data = (data - 128) / 255\n",
    "\n",
    "print('Data loaded')\n",
    "print('It is a dictionary with keys:', list(cifar.keys()))"
   ]
  },
  {
   "cell_type": "code",
   "execution_count": 10,
   "metadata": {},
   "outputs": [
    {
     "name": "stdout",
     "output_type": "stream",
     "text": [
      "Train: (3000, 32, 32, 3) (3000,)\n",
      "Valid: (1000, 32, 32, 3) (1000,)\n",
      "Test: (1000, 32, 32, 3) (1000,)\n"
     ]
    }
   ],
   "source": [
    "from sklearn.model_selection import train_test_split\n",
    "from sklearn.preprocessing import StandardScaler\n",
    "    \n",
    "# Create train set\n",
    "X_train, X_test, y_train, y_test = train_test_split(\n",
    "    # Reshape images: 32 by 32 with 3 (RGB) color channels\n",
    "    data.reshape(-1, 32, 32, 3),\n",
    "    cifar['labels'],\n",
    "    test_size=2000, random_state=0)\n",
    "\n",
    "# Create validation and test sets\n",
    "X_valid, X_test, y_valid, y_test = train_test_split(\n",
    "    X_test, y_test, test_size=1000, random_state=0)\n",
    "\n",
    "print('Train:', X_train.shape, y_train.shape)\n",
    "print('Valid:', X_valid.shape, y_valid.shape)\n",
    "print('Test:', X_test.shape, y_test.shape)"
   ]
  },
  {
   "cell_type": "code",
   "execution_count": 11,
   "metadata": {},
   "outputs": [],
   "source": [
    "# Batch generator\n",
    "def get_batches(X, y, batch_size):\n",
    "    # Shuffle X,y\n",
    "    shuffled_idx = np.arange(len(y)) # 1,2,...,n\n",
    "    np.random.shuffle(shuffled_idx)\n",
    "    \n",
    "    # Enumerate indexes by steps of batch_size\n",
    "    # i: 0, b, 2b, 3b, 4b, .. where b is the batch size\n",
    "    for i in range(0, len(y), batch_size):\n",
    "        # Batch indexes\n",
    "        batch_idx = shuffled_idx[i:i+batch_size]\n",
    "        yield X[batch_idx], y[batch_idx]"
   ]
  },
  {
   "cell_type": "code",
   "execution_count": 12,
   "metadata": {},
   "outputs": [
    {
     "name": "stdout",
     "output_type": "stream",
     "text": [
      "Input: (?, 32, 32, 3)\n",
      "Convolutional layer: (?, 16, 16, 64)\n",
      "Maxpool: (?, 8, 8, 64)\n",
      "Convolutional layer: (?, 8, 8, 64)\n",
      "Maxpool: (?, 4, 4, 64)\n",
      "Flatten: (?, 1024)\n",
      "Dropout: (?, 1024)\n",
      "Fully-connected layer: (?, 256)\n",
      "Output layer: (?, 10)\n"
     ]
    }
   ],
   "source": [
    "import tensorflow as tf\n",
    "\n",
    "# Create new graph\n",
    "graph = tf.Graph()\n",
    "\n",
    "with graph.as_default():\n",
    "    # Placeholders\n",
    "    X = tf.placeholder(dtype=tf.float32, shape=[None, 32, 32, 3])\n",
    "    y = tf.placeholder(dtype=tf.int32, shape=[None])\n",
    "    print('Input:', X.shape)\n",
    "    \n",
    "    # Convolutional layer (64 filters, 5x5, stride: 2)\n",
    "    conv1 = tf.layers.conv2d(\n",
    "        X, 64, (5, 5), (2, 2), 'SAME', # \"same\" padding\n",
    "        activation=tf.nn.relu, # ReLU\n",
    "        kernel_initializer=tf.truncated_normal_initializer(stddev=0.01, seed=0),\n",
    "        name='conv1'\n",
    "    )\n",
    "    print('Convolutional layer:', conv1.shape)\n",
    "    \n",
    "    # Maxpool layer (2x2, stride: 2, \"same\" padding)\n",
    "    pool1 = tf.layers.max_pooling2d(conv1, (2, 2), (2, 2), 'SAME')\n",
    "    print('Maxpool:', pool1.shape)\n",
    "    \n",
    "    # Convolutional layer (64 filters, 3x3, stride: 1)\n",
    "    conv2 = tf.layers.conv2d(\n",
    "        pool1, 64, (3, 3), (1, 1), 'SAME', # \"same\" padding\n",
    "        activation=tf.nn.relu, # ReLU\n",
    "        kernel_initializer=tf.truncated_normal_initializer(stddev=0.01, seed=0),\n",
    "        name='conv2'\n",
    "    )\n",
    "    print('Convolutional layer:', conv2.shape)\n",
    "    \n",
    "    # Maxpool layer (2x2, stride: 2, \"same\" padding)\n",
    "    pool2 = tf.layers.max_pooling2d(conv2, (2, 2), (2, 2), 'SAME')\n",
    "    print('Maxpool:', pool2.shape)\n",
    "    \n",
    "    # Flatten output\n",
    "    flat_output = tf.contrib.layers.flatten(pool2)\n",
    "    print('Flatten:', flat_output.shape)\n",
    "    \n",
    "    # Dropout\n",
    "    training = tf.placeholder(dtype=tf.bool)\n",
    "    flat_output = tf.layers.dropout(flat_output, rate=0.5, seed=0, training=training)\n",
    "    print('Dropout:', flat_output.shape)\n",
    "    \n",
    "    # Fully connected layer\n",
    "    fc1 = tf.layers.dense(\n",
    "        flat_output, 256, # 256 hidden units\n",
    "        activation=tf.nn.relu, # ReLU\n",
    "        kernel_initializer=tf.variance_scaling_initializer(scale=2, seed=0),\n",
    "        bias_initializer=tf.zeros_initializer()\n",
    "    )\n",
    "    print('Fully-connected layer:', fc1.shape)\n",
    "    \n",
    "    # Output layer\n",
    "    logits = tf.layers.dense(\n",
    "        fc1, 10, # One output unit per category\n",
    "        activation=None, # No activation function\n",
    "        kernel_initializer=tf.variance_scaling_initializer(scale=1, seed=0),\n",
    "        bias_initializer=tf.zeros_initializer()\n",
    "    )\n",
    "    print('Output layer:', logits.shape)\n",
    "    \n",
    "    # Kernel of the 1st conv. layer\n",
    "    with tf.variable_scope('conv1', reuse=True):\n",
    "        conv_kernels = tf.get_variable('kernel')\n",
    "    \n",
    "    # Mean cross-entropy\n",
    "    mean_ce = tf.reduce_mean(\n",
    "        tf.nn.sparse_softmax_cross_entropy_with_logits(\n",
    "            labels=y, logits=logits))\n",
    "    \n",
    "    # Adam optimizer\n",
    "    lr = tf.placeholder(dtype=tf.float32)\n",
    "    gd = tf.train.AdamOptimizer(learning_rate=lr)\n",
    "\n",
    "    # Minimize cross-entropy\n",
    "    train_op = gd.minimize(mean_ce)\n",
    "    \n",
    "    # Compute predictions and accuracy\n",
    "    predictions = tf.argmax(logits, axis=1, output_type=tf.int32)\n",
    "    is_correct = tf.equal(y, predictions)\n",
    "    accuracy = tf.reduce_mean(tf.cast(is_correct, dtype=tf.float32))"
   ]
  },
  {
   "cell_type": "code",
   "execution_count": 13,
   "metadata": {},
   "outputs": [
    {
     "name": "stdout",
     "output_type": "stream",
     "text": [
      "Epoch 1 - valid: 0.462 train: 0.366 (mean)\n",
      "Epoch 2 - valid: 0.522 train: 0.490 (mean)\n",
      "Epoch 3 - valid: 0.536 train: 0.551 (mean)\n",
      "Epoch 4 - valid: 0.601 train: 0.560 (mean)\n",
      "Epoch 5 - valid: 0.616 train: 0.595 (mean)\n",
      "Epoch 6 - valid: 0.624 train: 0.620 (mean)\n",
      "Epoch 7 - valid: 0.643 train: 0.644 (mean)\n",
      "Epoch 8 - valid: 0.667 train: 0.671 (mean)\n",
      "Epoch 9 - valid: 0.682 train: 0.696 (mean)\n",
      "Epoch 10 - valid: 0.667 train: 0.710 (mean)\n",
      "Epoch 11 - valid: 0.683 train: 0.729 (mean)\n",
      "Epoch 12 - valid: 0.679 train: 0.751 (mean)\n",
      "Epoch 13 - valid: 0.692 train: 0.756 (mean)\n",
      "Epoch 14 - valid: 0.713 train: 0.779 (mean)\n",
      "Epoch 15 - valid: 0.704 train: 0.769 (mean)\n",
      "Epoch 16 - valid: 0.692 train: 0.782 (mean)\n",
      "Epoch 17 - valid: 0.719 train: 0.797 (mean)\n",
      "Epoch 18 - valid: 0.726 train: 0.815 (mean)\n",
      "Epoch 19 - valid: 0.738 train: 0.817 (mean)\n",
      "Epoch 20 - valid: 0.732 train: 0.821 (mean)\n",
      "Epoch 21 - valid: 0.749 train: 0.828 (mean)\n",
      "Epoch 22 - valid: 0.740 train: 0.849 (mean)\n",
      "Epoch 23 - valid: 0.739 train: 0.854 (mean)\n",
      "Epoch 24 - valid: 0.745 train: 0.848 (mean)\n",
      "Epoch 25 - valid: 0.751 train: 0.865 (mean)\n",
      "Epoch 26 - valid: 0.747 train: 0.869 (mean)\n",
      "Epoch 27 - valid: 0.754 train: 0.877 (mean)\n",
      "Epoch 28 - valid: 0.746 train: 0.880 (mean)\n",
      "Epoch 29 - valid: 0.754 train: 0.879 (mean)\n",
      "Epoch 30 - valid: 0.753 train: 0.895 (mean)\n",
      "Epoch 31 - valid: 0.742 train: 0.903 (mean)\n",
      "Epoch 32 - valid: 0.754 train: 0.912 (mean)\n",
      "Epoch 33 - valid: 0.745 train: 0.904 (mean)\n",
      "Epoch 34 - valid: 0.768 train: 0.909 (mean)\n",
      "Epoch 35 - valid: 0.753 train: 0.924 (mean)\n",
      "Epoch 36 - valid: 0.757 train: 0.923 (mean)\n",
      "Epoch 37 - valid: 0.759 train: 0.930 (mean)\n",
      "Epoch 38 - valid: 0.738 train: 0.937 (mean)\n",
      "Epoch 39 - valid: 0.768 train: 0.927 (mean)\n",
      "Epoch 40 - valid: 0.753 train: 0.941 (mean)\n",
      "Epoch 41 - valid: 0.757 train: 0.939 (mean)\n",
      "Epoch 42 - valid: 0.765 train: 0.934 (mean)\n",
      "Epoch 43 - valid: 0.757 train: 0.941 (mean)\n",
      "Epoch 44 - valid: 0.775 train: 0.942 (mean)\n",
      "Epoch 45 - valid: 0.759 train: 0.945 (mean)\n",
      "Epoch 46 - valid: 0.757 train: 0.948 (mean)\n",
      "Epoch 47 - valid: 0.762 train: 0.962 (mean)\n",
      "Epoch 48 - valid: 0.747 train: 0.953 (mean)\n",
      "Epoch 49 - valid: 0.757 train: 0.948 (mean)\n",
      "Epoch 50 - valid: 0.768 train: 0.950 (mean)\n",
      "Test accuracy: 0.783\n"
     ]
    }
   ],
   "source": [
    "# Validation accuracy\n",
    "valid_acc_values = []\n",
    "\n",
    "with tf.Session(graph=graph) as sess:\n",
    "    # Initialize variables\n",
    "    sess.run(tf.global_variables_initializer())\n",
    "    \n",
    "    # Set seed\n",
    "    np.random.seed(0)\n",
    "    \n",
    "    # Train several epochs\n",
    "    for epoch in range(50):\n",
    "        # Accuracy values (train) after each batch\n",
    "        batch_acc = []\n",
    "        \n",
    "        for X_batch, y_batch in get_batches(X_train, y_train, 64):\n",
    "            # Run training and evaluate accuracy\n",
    "            _, acc_value = sess.run([train_op, accuracy], feed_dict={\n",
    "                X: X_batch,\n",
    "                y: y_batch,\n",
    "                lr: 0.001, # Learning rate\n",
    "                training: True\n",
    "            })\n",
    "            \n",
    "            # Save accuracy (current batch)\n",
    "            batch_acc.append(acc_value)\n",
    "\n",
    "        # Evaluate validation accuracy\n",
    "        valid_acc = sess.run(accuracy, feed_dict={\n",
    "            X: X_valid,\n",
    "            y: y_valid,\n",
    "            training: False\n",
    "        })\n",
    "        valid_acc_values.append(valid_acc)\n",
    "        \n",
    "        # Print progress\n",
    "        print('Epoch {} - valid: {:.3f} train: {:.3f} (mean)'.format(\n",
    "            epoch+1, valid_acc, np.mean(batch_acc)\n",
    "        ))\n",
    "        \n",
    "    # Get 1st conv. layer kernels\n",
    "    kernels = conv_kernels.eval()\n",
    "    \n",
    "    # Evaluate test accuracy\n",
    "    test_acc = sess.run(accuracy, feed_dict={\n",
    "        X: X_test,\n",
    "        y: y_test,\n",
    "            training: False\n",
    "    })\n",
    "    print('Test accuracy: {:.3f}'.format(test_acc))"
   ]
  },
  {
   "cell_type": "code",
   "execution_count": 16,
   "metadata": {},
   "outputs": [
    {
     "data": {
      "image/png": "[encoded data removed]",
      "text/plain": [
       "<matplotlib.figure.Figure at 0x1a31423dd8>"
      ]
     },
     "metadata": {},
     "output_type": "display_data"
    }
   ],
   "source": [
    "%matplotlib inline\n",
    "import matplotlib.pyplot as plt\n",
    "\n",
    "# Plot accuracy values\n",
    "plt.plot(valid_acc_values)\n",
    "plt.title('Validation accuracy: {:.3f} (mean last 3)'.format(\n",
    "    np.mean(valid_acc_values[-3:]) # last three values\n",
    "))\n",
    "plt.xlabel('epoch')\n",
    "plt.ylabel('accuracy')\n",
    "plt.show()"
   ]
  },
  {
   "cell_type": "markdown",
   "metadata": {},
   "source": [
    "# Visualize weights"
   ]
  },
  {
   "cell_type": "code",
   "execution_count": 17,
   "metadata": {
    "scrolled": true
   },
   "outputs": [
    {
     "data": {
      "image/png": "[encoded data removed]",
      "text/plain": [
       "<matplotlib.figure.Figure at 0x1a39613f98>"
      ]
     },
     "metadata": {},
     "output_type": "display_data"
    }
   ],
   "source": [
    "# Create a grid of subplots\n",
    "fig, axes = plt.subplots(nrows=8, ncols=8, figsize=(8, 8))\n",
    "\n",
    "# Remove gaps between suplots\n",
    "plt.subplots_adjust(wspace=0, hspace=0)\n",
    "\n",
    "# Plot the 64 kernels from the first convolutional layer\n",
    "for i, axis in enumerate(axes.flatten()):\n",
    "    # Get i-th kernel (shape: 5x5x3)\n",
    "    kernel = kernels[:, :, :, i].copy()\n",
    "    \n",
    "    # Rescale values between 0 and 1\n",
    "    kernel -= kernel.min() # Rescale between 0 and max\n",
    "    kernel /= kernel.max() # Rescale between 0 and 1\n",
    "    \n",
    "    # Plot kernel with imshow()\n",
    "    axis.imshow(kernel)\n",
    "    axis.get_xaxis().set_visible(False) # disable x-axis\n",
    "    axis.get_yaxis().set_visible(False) # disable y-axis\n",
    "    \n",
    "plt.show()"
   ]
  },
  {
   "cell_type": "code",
   "execution_count": null,
   "metadata": {},
   "outputs": [],
   "source": []
  }
 ],
 "metadata": {
  "kernelspec": {
   "display_name": "Python 3",
   "language": "python",
   "name": "python3"
  },
  "language_info": {
   "codemirror_mode": {
    "name": "ipython",
    "version": 3
   },
   "file_extension": ".py",
   "mimetype": "text/x-python",
   "name": "python",
   "nbconvert_exporter": "python",
   "pygments_lexer": "ipython3",
   "version": "3.6.4"
  }
 },
 "nbformat": 4,
 "nbformat_minor": 2
}

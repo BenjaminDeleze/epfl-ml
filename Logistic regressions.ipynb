{
 "cells": [
  {
   "cell_type": "markdown",
   "metadata": {},
   "source": [
    "## Logistic regressions"
   ]
  },
  {
   "cell_type": "code",
   "execution_count": 1,
   "metadata": {},
   "outputs": [
    {
     "name": "stdout",
     "output_type": "stream",
     "text": [
      "Data loaded\n",
      "It is a dictionary with keys: ['pixels', 'overfeat', 'labels', 'names', 'allow_pickle']\n"
     ]
    }
   ],
   "source": [
    "import numpy as np\n",
    "import os\n",
    "import pandas as pd\n",
    "%matplotlib inline\n",
    "import matplotlib.pyplot as plt\n",
    "\n",
    "# Load the numpy .npz file\n",
    "with np.load(os.path.join('data', 'cifar4-train.npz'), allow_pickle=False) as data:\n",
    "    cifar4_data = dict(data.items())\n",
    "    \n",
    "print('Data loaded')\n",
    "print('It is a dictionary with keys:', list(cifar4_data.keys()))"
   ]
  },
  {
   "cell_type": "code",
   "execution_count": 2,
   "metadata": {},
   "outputs": [
    {
     "name": "stdout",
     "output_type": "stream",
     "text": [
      "X shape: (5000, 4096)\n",
      "y shape: (5000,)\n"
     ]
    }
   ],
   "source": [
    "X = cifar4_data['overfeat']\n",
    "y = cifar4_data['labels']\n",
    "\n",
    "print('X shape:',X.shape)\n",
    "print('y shape:', y.shape)"
   ]
  },
  {
   "cell_type": "markdown",
   "metadata": {},
   "source": [
    "From the data exploration we use 164 features and we apply it to the data set."
   ]
  },
  {
   "cell_type": "code",
   "execution_count": 3,
   "metadata": {},
   "outputs": [
    {
     "name": "stdout",
     "output_type": "stream",
     "text": [
      "X_train: (4000, 4096) float32\n",
      "y_train: (4000,) int64\n",
      "X_test: (1000, 4096) float32\n",
      "y_test: (1000,) int64\n"
     ]
    }
   ],
   "source": [
    "# Splitting the data\n",
    "from sklearn.model_selection import train_test_split\n",
    "\n",
    "# Split data\n",
    "X_train, X_test, y_train, y_test = train_test_split(X, y,train_size=4000,test_size=1000,\n",
    "                                          random_state=0, stratify=y)\n",
    "\n",
    "# checking the shapes\n",
    "print('X_train:', X_train.shape, X_train.dtype)\n",
    "print('y_train:', y_train.shape, y_train.dtype)\n",
    "print('X_test:', X_test.shape, X_test.dtype)\n",
    "print('y_test:', y_test.shape, y_test.dtype)"
   ]
  },
  {
   "cell_type": "code",
   "execution_count": 4,
   "metadata": {},
   "outputs": [
    {
     "data": {
      "text/plain": [
       "GridSearchCV(cv=5, error_score='raise',\n",
       "       estimator=Pipeline(memory=None,\n",
       "     steps=[('pca', None), ('logreg', LogisticRegression(C=1.0, class_weight=None, dual=False, fit_intercept=True,\n",
       "          intercept_scaling=1, max_iter=100, multi_class='ovr', n_jobs=1,\n",
       "          penalty='l2', random_state=None, solver='liblinear', tol=0.0001,\n",
       "          verbose=0, warm_start=False))]),\n",
       "       fit_params=None, iid=True, n_jobs=1,\n",
       "       param_grid=[{'logreg__multi_class': ['ovr'], 'logreg__C': [0.1, 1, 10], 'logreg__solver': ['liblinear']}, {'pca': [PCA(copy=True, iterated_power='auto', n_components=164, random_state=None,\n",
       "  svd_solver='auto', tol=0.0, whiten=False)], 'logreg__multi_class': ['ovr'], 'logreg__C': [0.1, 1, 10], 'logreg__solver': ['liblinear']}],\n",
       "       pre_dispatch='2*n_jobs', refit=True, return_train_score=True,\n",
       "       scoring=None, verbose=0)"
      ]
     },
     "execution_count": 4,
     "metadata": {},
     "output_type": "execute_result"
    }
   ],
   "source": [
    "from sklearn.linear_model import LogisticRegression\n",
    "from sklearn.model_selection import GridSearchCV\n",
    "from sklearn.pipeline import Pipeline\n",
    "from sklearn.decomposition import PCA\n",
    "\n",
    "# Create pipeline\n",
    "pipe = Pipeline([\n",
    "    ('pca',None),\n",
    "    ('logreg',LogisticRegression())\n",
    "])\n",
    "\n",
    "# Create cross-validation object\n",
    "grid_cv=GridSearchCV(pipe,[{\n",
    "    'logreg__multi_class':['ovr'],\n",
    "    'logreg__C':[0.1,1,10],\n",
    "    'logreg__solver':['liblinear']\n",
    "},{\n",
    "    'pca':[PCA(n_components=164)],\n",
    "    'logreg__multi_class':['ovr'],\n",
    "    'logreg__C':[0.1,1,10],\n",
    "    'logreg__solver':['liblinear']\n",
    "}],cv=5)\n",
    "\n",
    "# Fit estimator\n",
    "grid_cv.fit(X_train,y_train)"
   ]
  },
  {
   "cell_type": "code",
   "execution_count": 5,
   "metadata": {},
   "outputs": [
    {
     "data": {
      "text/html": [
       "<div>\n",
       "<style scoped>\n",
       "    .dataframe tbody tr th:only-of-type {\n",
       "        vertical-align: middle;\n",
       "    }\n",
       "\n",
       "    .dataframe tbody tr th {\n",
       "        vertical-align: top;\n",
       "    }\n",
       "\n",
       "    .dataframe thead th {\n",
       "        text-align: right;\n",
       "    }\n",
       "</style>\n",
       "<table border=\"1\" class=\"dataframe\">\n",
       "  <thead>\n",
       "    <tr style=\"text-align: right;\">\n",
       "      <th></th>\n",
       "      <th>alpha</th>\n",
       "      <th>mean accuracy</th>\n",
       "      <th>standard deviation</th>\n",
       "    </tr>\n",
       "  </thead>\n",
       "  <tbody>\n",
       "    <tr>\n",
       "      <th>3</th>\n",
       "      <td>0.1</td>\n",
       "      <td>0.83175</td>\n",
       "      <td>0.015980</td>\n",
       "    </tr>\n",
       "    <tr>\n",
       "      <th>5</th>\n",
       "      <td>10</td>\n",
       "      <td>0.82925</td>\n",
       "      <td>0.016058</td>\n",
       "    </tr>\n",
       "    <tr>\n",
       "      <th>4</th>\n",
       "      <td>1</td>\n",
       "      <td>0.82725</td>\n",
       "      <td>0.015133</td>\n",
       "    </tr>\n",
       "    <tr>\n",
       "      <th>0</th>\n",
       "      <td>0.1</td>\n",
       "      <td>0.82700</td>\n",
       "      <td>0.012614</td>\n",
       "    </tr>\n",
       "    <tr>\n",
       "      <th>1</th>\n",
       "      <td>1</td>\n",
       "      <td>0.82000</td>\n",
       "      <td>0.013784</td>\n",
       "    </tr>\n",
       "    <tr>\n",
       "      <th>2</th>\n",
       "      <td>10</td>\n",
       "      <td>0.81500</td>\n",
       "      <td>0.015871</td>\n",
       "    </tr>\n",
       "  </tbody>\n",
       "</table>\n",
       "</div>"
      ],
      "text/plain": [
       "  alpha  mean accuracy  standard deviation\n",
       "3   0.1        0.83175            0.015980\n",
       "5    10        0.82925            0.016058\n",
       "4     1        0.82725            0.015133\n",
       "0   0.1        0.82700            0.012614\n",
       "1     1        0.82000            0.013784\n",
       "2    10        0.81500            0.015871"
      ]
     },
     "execution_count": 5,
     "metadata": {},
     "output_type": "execute_result"
    }
   ],
   "source": [
    "df = pd.DataFrame.from_items([\n",
    "    ('alpha',grid_cv.cv_results_['param_logreg__C']),\n",
    "    ('mean accuracy',grid_cv.cv_results_['mean_test_score']),\n",
    "    ('standard deviation',grid_cv.cv_results_['std_test_score'])\n",
    "])\n",
    "df.sort_values(by='mean accuracy',ascending=False)"
   ]
  },
  {
   "cell_type": "code",
   "execution_count": 6,
   "metadata": {},
   "outputs": [
    {
     "name": "stdout",
     "output_type": "stream",
     "text": [
      "Top accuracy across folds: 0.83175  (std: 0.01598045681449687 ) with 164 components and alpha: 0.1\n"
     ]
    }
   ],
   "source": [
    "# Best combination\n",
    "idx_max = df.loc[df['mean accuracy'].idxmax()]\n",
    "\n",
    "print('Top accuracy across folds:',idx_max[1],\n",
    "      ' (std:',idx_max[2],\n",
    "      ') with 164 components and alpha:',idx_max[0])"
   ]
  },
  {
   "cell_type": "code",
   "execution_count": 7,
   "metadata": {},
   "outputs": [
    {
     "data": {
      "text/plain": [
       "array([2, 2, 2, 0, 3, 0, 2, 0, 0, 1, 3, 1, 2, 2, 3, 2, 3, 1, 1, 0, 0, 1,\n",
       "       3, 3, 0, 1, 1, 3, 1, 0, 2, 2, 1, 3, 1, 1, 3, 2, 3, 3, 2, 0, 0, 1,\n",
       "       2, 0, 3, 1, 1, 2, 0, 0, 1, 2, 2, 3, 3, 2, 2, 2, 3, 2, 1, 0, 3, 3,\n",
       "       3, 0, 1, 3, 2, 3, 1, 0, 3, 0, 3, 3, 2, 1, 3, 2, 2, 0, 2, 1, 2, 0,\n",
       "       1, 0, 0, 2, 1, 3, 1, 3, 1, 3, 0, 1, 0, 2, 2, 1, 1, 2, 1, 1, 0, 0,\n",
       "       3, 1, 1, 1, 3, 2, 3, 1, 1, 1, 1, 2, 1, 0, 1, 2, 3, 3, 2, 2, 2, 3,\n",
       "       0, 1, 1, 1, 2, 3, 0, 2, 1, 3, 0, 3, 1, 1, 3, 2, 2, 1, 2, 2, 2, 3,\n",
       "       2, 3, 3, 2, 2, 2, 2, 2, 1, 2, 1, 1, 2, 0, 0, 1, 0, 0, 2, 3, 3, 1,\n",
       "       3, 0, 0, 2, 1, 0, 2, 1, 2, 1, 3, 1, 1, 3, 3, 3, 1, 0, 1, 3, 0, 0,\n",
       "       2, 2, 0, 0, 1, 3, 0, 3, 0, 2, 3, 3, 2, 3, 3, 1, 3, 2, 0, 3, 0, 3,\n",
       "       2, 0, 1, 1, 0, 3, 1, 1, 0, 2, 1, 2, 1, 1, 2, 2, 3, 1, 2, 2, 1, 3,\n",
       "       3, 2, 0, 0, 2, 0, 1, 3, 0, 2, 3, 3, 2, 0, 3, 1, 3, 3, 3, 3, 0, 3,\n",
       "       1, 3, 3, 1, 0, 2, 1, 2, 1, 2, 0, 3, 1, 3, 1, 3, 2, 0, 3, 2, 3, 0,\n",
       "       3, 1, 1, 0, 0, 2, 3, 2, 0, 2, 3, 0, 2, 2, 2, 3, 3, 1, 1, 2, 0, 1,\n",
       "       2, 1, 2, 1, 3, 1, 2, 1, 0, 3, 2, 2, 1, 3, 3, 0, 0, 3, 3, 1, 0, 1,\n",
       "       3, 1, 0, 3, 0, 3, 0, 2, 1, 3, 0, 2, 2, 3, 3, 2, 3, 1, 1, 2, 0, 1,\n",
       "       0, 0, 3, 3, 2, 0, 3, 0, 2, 0, 3, 1, 0, 3, 2, 3, 3, 0, 2, 2, 2, 3,\n",
       "       2, 2, 0, 2, 3, 1, 1, 2, 3, 1, 1, 2, 2, 1, 3, 2, 3, 2, 2, 1, 0, 3,\n",
       "       3, 0, 1, 3, 2, 3, 2, 3, 2, 2, 3, 1, 0, 3, 0, 0, 0, 2, 0, 1, 3, 0,\n",
       "       3, 1, 0, 3, 3, 3, 3, 3, 2, 0, 0, 3, 0, 0, 0, 1, 3, 2, 3, 0, 3, 3,\n",
       "       3, 0, 0, 2, 3, 2, 0, 3, 0, 0, 1, 1, 3, 3, 3, 1, 1, 3, 0, 3, 3, 0,\n",
       "       1, 3, 1, 0, 0, 2, 2, 3, 3, 2, 0, 1, 1, 0, 1, 1, 2, 0, 2, 1, 3, 3,\n",
       "       0, 0, 3, 2, 1, 3, 1, 0, 2, 3, 2, 2, 2, 1, 3, 2, 0, 2, 1, 3, 2, 0,\n",
       "       2, 2, 0, 2, 0, 1, 1, 1, 3, 3, 0, 3, 0, 1, 2, 0, 2, 2, 1, 2, 2, 1,\n",
       "       2, 0, 1, 2, 1, 0, 2, 0, 0, 0, 3, 3, 2, 0, 2, 2, 1, 0, 0, 2, 3, 1,\n",
       "       1, 2, 1, 1, 3, 0, 0, 1, 2, 1, 2, 1, 1, 1, 1, 0, 0, 0, 3, 0, 3, 1,\n",
       "       3, 2, 2, 1, 3, 0, 0, 0, 0, 1, 2, 2, 3, 3, 1, 1, 0, 2, 0, 1, 1, 2,\n",
       "       2, 3, 2, 2, 1, 0, 1, 1, 0, 0, 3, 1, 0, 2, 0, 1, 0, 2, 3, 0, 0, 0,\n",
       "       2, 2, 3, 3, 2, 1, 1, 0, 3, 1, 3, 0, 1, 2, 3, 1, 2, 2, 0, 0, 0, 1,\n",
       "       3, 2, 1, 1, 1, 1, 2, 2, 1, 2, 1, 2, 3, 1, 2, 2, 1, 0, 1, 1, 1, 0,\n",
       "       0, 1, 3, 2, 2, 1, 1, 0, 1, 3, 3, 1, 3, 0, 0, 3, 0, 3, 3, 2, 1, 2,\n",
       "       2, 2, 1, 1, 3, 2, 0, 0, 3, 2, 0, 0, 2, 1, 3, 1, 3, 2, 3, 2, 2, 0,\n",
       "       3, 0, 3, 2, 0, 0, 1, 3, 1, 2, 3, 0, 3, 3, 1, 1, 0, 2, 0, 1, 1, 2,\n",
       "       1, 3, 3, 0, 2, 3, 3, 2, 3, 3, 2, 2, 2, 1, 2, 3, 0, 0, 1, 0, 2, 1,\n",
       "       2, 0, 0, 2, 1, 3, 0, 3, 2, 2, 1, 2, 3, 1, 0, 0, 3, 3, 3, 0, 0, 1,\n",
       "       2, 3, 0, 3, 2, 1, 1, 0, 0, 0, 3, 0, 0, 0, 2, 1, 1, 3, 2, 3, 3, 1,\n",
       "       2, 0, 1, 2, 0, 1, 0, 0, 2, 2, 0, 2, 0, 0, 3, 1, 2, 3, 1, 0, 0, 3,\n",
       "       0, 2, 1, 1, 0, 0, 2, 3, 1, 1, 3, 2, 0, 1, 1, 0, 3, 2, 2, 0, 0, 0,\n",
       "       3, 0, 1, 0, 2, 2, 3, 0, 0, 1, 1, 3, 0, 0, 0, 2, 3, 0, 3, 1, 2, 0,\n",
       "       1, 0, 3, 2, 2, 3, 2, 2, 2, 1, 0, 1, 0, 3, 2, 1, 3, 3, 2, 0, 0, 2,\n",
       "       3, 2, 3, 3, 1, 0, 0, 1, 1, 3, 0, 3, 1, 3, 3, 2, 2, 0, 3, 0, 1, 1,\n",
       "       0, 3, 3, 2, 1, 3, 3, 1, 3, 3, 0, 0, 1, 3, 2, 1, 1, 1, 0, 1, 2, 2,\n",
       "       0, 3, 1, 3, 2, 1, 2, 2, 2, 0, 2, 2, 3, 0, 3, 3, 2, 3, 3, 2, 2, 2,\n",
       "       3, 3, 1, 1, 1, 2, 0, 2, 1, 2, 0, 2, 1, 1, 1, 3, 0, 0, 2, 3, 2, 1,\n",
       "       1, 3, 1, 1, 3, 3, 2, 0, 0, 1, 2, 3, 3, 2, 2, 1, 1, 1, 2, 3, 1, 3,\n",
       "       3, 0, 0, 2, 0, 0, 2, 0, 0, 2])"
      ]
     },
     "execution_count": 7,
     "metadata": {},
     "output_type": "execute_result"
    }
   ],
   "source": [
    "# Compute predictions with the \"best_estimator_\" attribute\n",
    "grid_cv.best_estimator_.predict(X_test)"
   ]
  },
  {
   "cell_type": "code",
   "execution_count": 8,
   "metadata": {},
   "outputs": [],
   "source": [
    "accuracy = grid_cv.score(X_test,y_test)"
   ]
  },
  {
   "cell_type": "code",
   "execution_count": 9,
   "metadata": {},
   "outputs": [
    {
     "name": "stdout",
     "output_type": "stream",
     "text": [
      "Logistic regression accuracy (test set): 0.805\n"
     ]
    }
   ],
   "source": [
    "print('Logistic regression accuracy (test set):',accuracy)"
   ]
  },
  {
   "cell_type": "markdown",
   "metadata": {},
   "source": [
    "## Second task\n",
    "#### pick ten images from the test set and compute probabilities"
   ]
  },
  {
   "cell_type": "code",
   "execution_count": 10,
   "metadata": {},
   "outputs": [],
   "source": [
    "import random\n",
    "\n",
    "## 10 random indices \n",
    "ten_imgs_idx = random.choices(range(1000), k=10)\n",
    "\n",
    "preds = grid_cv.predict_proba(X_test[ten_imgs_idx])\n",
    "\n",
    "prob_preds = pd.DataFrame(np.around(preds, decimals=2),\n",
    "                          columns= cifar4_data['names'],\n",
    "                          index=['image {}'.format(i) for i in range(1, 11)])"
   ]
  },
  {
   "cell_type": "code",
   "execution_count": 11,
   "metadata": {},
   "outputs": [
    {
     "data": {
      "text/html": [
       "<div>\n",
       "<style scoped>\n",
       "    .dataframe tbody tr th:only-of-type {\n",
       "        vertical-align: middle;\n",
       "    }\n",
       "\n",
       "    .dataframe tbody tr th {\n",
       "        vertical-align: top;\n",
       "    }\n",
       "\n",
       "    .dataframe thead th {\n",
       "        text-align: right;\n",
       "    }\n",
       "</style>\n",
       "<table border=\"1\" class=\"dataframe\">\n",
       "  <thead>\n",
       "    <tr style=\"text-align: right;\">\n",
       "      <th></th>\n",
       "      <th>truck</th>\n",
       "      <th>car</th>\n",
       "      <th>airplane</th>\n",
       "      <th>ship</th>\n",
       "    </tr>\n",
       "  </thead>\n",
       "  <tbody>\n",
       "    <tr>\n",
       "      <th>image 1</th>\n",
       "      <td>0.03</td>\n",
       "      <td>0.46</td>\n",
       "      <td>0.01</td>\n",
       "      <td>0.50</td>\n",
       "    </tr>\n",
       "    <tr>\n",
       "      <th>image 2</th>\n",
       "      <td>0.00</td>\n",
       "      <td>0.01</td>\n",
       "      <td>0.96</td>\n",
       "      <td>0.02</td>\n",
       "    </tr>\n",
       "    <tr>\n",
       "      <th>image 3</th>\n",
       "      <td>0.00</td>\n",
       "      <td>0.02</td>\n",
       "      <td>0.89</td>\n",
       "      <td>0.08</td>\n",
       "    </tr>\n",
       "    <tr>\n",
       "      <th>image 4</th>\n",
       "      <td>0.05</td>\n",
       "      <td>0.01</td>\n",
       "      <td>0.94</td>\n",
       "      <td>0.00</td>\n",
       "    </tr>\n",
       "    <tr>\n",
       "      <th>image 5</th>\n",
       "      <td>0.82</td>\n",
       "      <td>0.14</td>\n",
       "      <td>0.02</td>\n",
       "      <td>0.02</td>\n",
       "    </tr>\n",
       "    <tr>\n",
       "      <th>image 6</th>\n",
       "      <td>0.00</td>\n",
       "      <td>0.49</td>\n",
       "      <td>0.00</td>\n",
       "      <td>0.51</td>\n",
       "    </tr>\n",
       "    <tr>\n",
       "      <th>image 7</th>\n",
       "      <td>0.02</td>\n",
       "      <td>0.00</td>\n",
       "      <td>0.75</td>\n",
       "      <td>0.23</td>\n",
       "    </tr>\n",
       "    <tr>\n",
       "      <th>image 8</th>\n",
       "      <td>0.01</td>\n",
       "      <td>0.13</td>\n",
       "      <td>0.17</td>\n",
       "      <td>0.69</td>\n",
       "    </tr>\n",
       "    <tr>\n",
       "      <th>image 9</th>\n",
       "      <td>0.15</td>\n",
       "      <td>0.05</td>\n",
       "      <td>0.01</td>\n",
       "      <td>0.79</td>\n",
       "    </tr>\n",
       "    <tr>\n",
       "      <th>image 10</th>\n",
       "      <td>0.61</td>\n",
       "      <td>0.15</td>\n",
       "      <td>0.23</td>\n",
       "      <td>0.01</td>\n",
       "    </tr>\n",
       "  </tbody>\n",
       "</table>\n",
       "</div>"
      ],
      "text/plain": [
       "          truck   car  airplane  ship\n",
       "image 1    0.03  0.46      0.01  0.50\n",
       "image 2    0.00  0.01      0.96  0.02\n",
       "image 3    0.00  0.02      0.89  0.08\n",
       "image 4    0.05  0.01      0.94  0.00\n",
       "image 5    0.82  0.14      0.02  0.02\n",
       "image 6    0.00  0.49      0.00  0.51\n",
       "image 7    0.02  0.00      0.75  0.23\n",
       "image 8    0.01  0.13      0.17  0.69\n",
       "image 9    0.15  0.05      0.01  0.79\n",
       "image 10   0.61  0.15      0.23  0.01"
      ]
     },
     "execution_count": 11,
     "metadata": {},
     "output_type": "execute_result"
    }
   ],
   "source": [
    "prob_preds"
   ]
  },
  {
   "cell_type": "code",
   "execution_count": 12,
   "metadata": {},
   "outputs": [
    {
     "data": {
      "text/plain": [
       "[961, 620, 157, 522, 132, 116, 254, 469, 650, 826]"
      ]
     },
     "execution_count": 12,
     "metadata": {},
     "output_type": "execute_result"
    }
   ],
   "source": [
    "ten_imgs_idx"
   ]
  },
  {
   "cell_type": "code",
   "execution_count": 13,
   "metadata": {},
   "outputs": [
    {
     "data": {
      "image/png": "[encoded data removed]",
      "text/plain": [
       "<matplotlib.figure.Figure at 0x1a179c2b00>"
      ]
     },
     "metadata": {},
     "output_type": "display_data"
    }
   ],
   "source": [
    "# Extract the 303 image\n",
    "flat_img = X_test[303, :]\n",
    "\n",
    "# Reshape the image\n",
    "img = flat_img.reshape(64,64)\n",
    "\n",
    "# Plot the rescaled image\n",
    "plt.imshow(img)\n",
    "plt.show()"
   ]
  },
  {
   "cell_type": "markdown",
   "metadata": {},
   "source": [
    "### Try with different regularization strengths. Write your observations."
   ]
  },
  {
   "cell_type": "code",
   "execution_count": null,
   "metadata": {},
   "outputs": [],
   "source": []
  }
 ],
 "metadata": {
  "kernelspec": {
   "display_name": "Python 3",
   "language": "python",
   "name": "python3"
  },
  "language_info": {
   "codemirror_mode": {
    "name": "ipython",
    "version": 3
   },
   "file_extension": ".py",
   "mimetype": "text/x-python",
   "name": "python",
   "nbconvert_exporter": "python",
   "pygments_lexer": "ipython3",
   "version": "3.6.4"
  }
 },
 "nbformat": 4,
 "nbformat_minor": 2
}

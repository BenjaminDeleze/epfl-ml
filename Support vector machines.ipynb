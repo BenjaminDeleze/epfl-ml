{
 "cells": [
  {
   "cell_type": "markdown",
   "metadata": {},
   "source": [
    "## Support vector machines"
   ]
  },
  {
   "cell_type": "code",
   "execution_count": 1,
   "metadata": {},
   "outputs": [
    {
     "name": "stdout",
     "output_type": "stream",
     "text": [
      "Data loaded\n",
      "It is a dictionary with keys: ['pixels', 'overfeat', 'labels', 'names', 'allow_pickle']\n"
     ]
    }
   ],
   "source": [
    "import numpy as np\n",
    "import os\n",
    "import pandas as pd\n",
    "%matplotlib inline\n",
    "import matplotlib.pyplot as plt\n",
    "\n",
    "# Load the numpy .npz file\n",
    "with np.load(os.path.join('data', 'cifar4-train.npz'), allow_pickle=False) as data:\n",
    "    cifar4_data = dict(data.items())\n",
    "    \n",
    "print('Data loaded')\n",
    "print('It is a dictionary with keys:', list(cifar4_data.keys()))"
   ]
  },
  {
   "cell_type": "code",
   "execution_count": 2,
   "metadata": {},
   "outputs": [
    {
     "name": "stdout",
     "output_type": "stream",
     "text": [
      "X shape: (5000, 4096)\n",
      "y shape: (5000,)\n"
     ]
    }
   ],
   "source": [
    "X = cifar4_data['overfeat']\n",
    "y = cifar4_data['labels']\n",
    "\n",
    "print('X shape:',X.shape)\n",
    "print('y shape:', y.shape)"
   ]
  },
  {
   "cell_type": "code",
   "execution_count": 3,
   "metadata": {},
   "outputs": [
    {
     "name": "stdout",
     "output_type": "stream",
     "text": [
      "X shape: (5000, 164)\n"
     ]
    }
   ],
   "source": [
    "from sklearn.decomposition import PCA\n",
    "\n",
    "# PCA to reduce dimensions. \n",
    "# Using 164 as this is the result from the previous exercise ensuring 90% of PVE explained\n",
    "pca = PCA(n_components=164)\n",
    "X = pca.fit_transform(X)\n",
    "print('X shape:',X.shape)"
   ]
  },
  {
   "cell_type": "markdown",
   "metadata": {},
   "source": [
    "From the data exploration we use 164 features and we apply it to the data set."
   ]
  },
  {
   "cell_type": "code",
   "execution_count": 5,
   "metadata": {
    "scrolled": true
   },
   "outputs": [
    {
     "name": "stdout",
     "output_type": "stream",
     "text": [
      "X_train: (4000, 164) float32\n",
      "y_train: (4000,) int64\n",
      "X_test: (1000, 164) float32\n",
      "y_test: (1000,) int64\n"
     ]
    }
   ],
   "source": [
    "# Splitting the data\n",
    "from sklearn.model_selection import train_test_split\n",
    "\n",
    "# Split data\n",
    "X_train, X_test, y_train, y_test = train_test_split(X, y,train_size=4000,test_size=1000,\n",
    "                                          random_state=0, stratify=y)\n",
    "\n",
    "# checking the shapes\n",
    "print('X_train:', X_train.shape, X_train.dtype)\n",
    "print('y_train:', y_train.shape, y_train.dtype)\n",
    "print('X_test:', X_test.shape, X_test.dtype)\n",
    "print('y_test:', y_test.shape, y_test.dtype)"
   ]
  },
  {
   "cell_type": "markdown",
   "metadata": {},
   "source": [
    "### SVM classifier with a linear kernel"
   ]
  },
  {
   "cell_type": "code",
   "execution_count": 10,
   "metadata": {},
   "outputs": [
    {
     "data": {
      "text/html": [
       "<div>\n",
       "<style scoped>\n",
       "    .dataframe tbody tr th:only-of-type {\n",
       "        vertical-align: middle;\n",
       "    }\n",
       "\n",
       "    .dataframe tbody tr th {\n",
       "        vertical-align: top;\n",
       "    }\n",
       "\n",
       "    .dataframe thead th {\n",
       "        text-align: right;\n",
       "    }\n",
       "</style>\n",
       "<table border=\"1\" class=\"dataframe\">\n",
       "  <thead>\n",
       "    <tr style=\"text-align: right;\">\n",
       "      <th></th>\n",
       "      <th>C</th>\n",
       "      <th>mean accuracy</th>\n",
       "      <th>standard deviation</th>\n",
       "    </tr>\n",
       "  </thead>\n",
       "  <tbody>\n",
       "    <tr>\n",
       "      <th>0</th>\n",
       "      <td>0.01</td>\n",
       "      <td>0.8175</td>\n",
       "      <td>0.017302</td>\n",
       "    </tr>\n",
       "    <tr>\n",
       "      <th>1</th>\n",
       "      <td>0.1</td>\n",
       "      <td>0.8030</td>\n",
       "      <td>0.019931</td>\n",
       "    </tr>\n",
       "    <tr>\n",
       "      <th>2</th>\n",
       "      <td>1</td>\n",
       "      <td>0.7895</td>\n",
       "      <td>0.016290</td>\n",
       "    </tr>\n",
       "    <tr>\n",
       "      <th>3</th>\n",
       "      <td>5</td>\n",
       "      <td>0.7860</td>\n",
       "      <td>0.016982</td>\n",
       "    </tr>\n",
       "    <tr>\n",
       "      <th>4</th>\n",
       "      <td>10</td>\n",
       "      <td>0.7860</td>\n",
       "      <td>0.016628</td>\n",
       "    </tr>\n",
       "  </tbody>\n",
       "</table>\n",
       "</div>"
      ],
      "text/plain": [
       "      C  mean accuracy  standard deviation\n",
       "0  0.01         0.8175            0.017302\n",
       "1   0.1         0.8030            0.019931\n",
       "2     1         0.7895            0.016290\n",
       "3     5         0.7860            0.016982\n",
       "4    10         0.7860            0.016628"
      ]
     },
     "execution_count": 10,
     "metadata": {},
     "output_type": "execute_result"
    }
   ],
   "source": [
    "from sklearn.model_selection import GridSearchCV\n",
    "\n",
    "# Create cross validation object\n",
    "grid_cv = GridSearchCV(SVC(kernel='linear'), {'C': [0.01,0.1,1,5,10]}, cv=5)\n",
    "\n",
    "# Fit estimator\n",
    "grid_cv.fit(X_train, y_train)\n",
    "\n",
    "# Get the results\n",
    "grid_cv.cv_results_.keys()\n",
    "\n",
    "# Collect results in a DataFrame\n",
    "df = pd.DataFrame.from_items([\n",
    "    ('C', grid_cv.cv_results_['param_C']),\n",
    "    ('mean accuracy',grid_cv.cv_results_['mean_test_score']),\n",
    "    ('standard deviation',grid_cv.cv_results_['std_test_score'])\n",
    "])\n",
    "df.sort_values(by='mean accuracy', ascending=False)\n"
   ]
  },
  {
   "cell_type": "code",
   "execution_count": 13,
   "metadata": {},
   "outputs": [
    {
     "name": "stdout",
     "output_type": "stream",
     "text": [
      "Linear SVM - top accuracy across folds: 0.8175  (std: 0.017302456472998287 ) with C: 0.01\n"
     ]
    }
   ],
   "source": [
    "# Best combination\n",
    "idx_max = df.loc[df['mean accuracy'].idxmax()]\n",
    "\n",
    "print('Linear SVM - top accuracy across folds:',idx_max[1],\n",
    "      ' (std:',idx_max[2], ') with C:',idx_max[0])"
   ]
  },
  {
   "cell_type": "markdown",
   "metadata": {},
   "source": [
    "### SVM classifier with a RBF kernel"
   ]
  },
  {
   "cell_type": "code",
   "execution_count": 15,
   "metadata": {},
   "outputs": [
    {
     "data": {
      "text/plain": [
       "dict_keys(['mean_fit_time', 'std_fit_time', 'mean_score_time', 'std_score_time', 'param_C', 'param_gamma', 'params', 'split0_test_score', 'split1_test_score', 'split2_test_score', 'split3_test_score', 'split4_test_score', 'mean_test_score', 'std_test_score', 'rank_test_score', 'split0_train_score', 'split1_train_score', 'split2_train_score', 'split3_train_score', 'split4_train_score', 'mean_train_score', 'std_train_score'])"
      ]
     },
     "execution_count": 15,
     "metadata": {},
     "output_type": "execute_result"
    }
   ],
   "source": [
    "# Create cross validation object\n",
    "grid_cv_rbf = GridSearchCV(SVC(kernel='rbf'), {'C': [0.01,0.1,1,5,10], 'gamma':[0.1,1,10,100,1000]}, cv=5)\n",
    "\n",
    "# Fit estimator\n",
    "grid_cv_rbf.fit(X_train, y_train)\n",
    "\n",
    "# Get the results\n",
    "grid_cv_rbf.cv_results_.keys()"
   ]
  },
  {
   "cell_type": "code",
   "execution_count": 17,
   "metadata": {},
   "outputs": [
    {
     "data": {
      "text/html": [
       "<div>\n",
       "<style scoped>\n",
       "    .dataframe tbody tr th:only-of-type {\n",
       "        vertical-align: middle;\n",
       "    }\n",
       "\n",
       "    .dataframe tbody tr th {\n",
       "        vertical-align: top;\n",
       "    }\n",
       "\n",
       "    .dataframe thead th {\n",
       "        text-align: right;\n",
       "    }\n",
       "</style>\n",
       "<table border=\"1\" class=\"dataframe\">\n",
       "  <thead>\n",
       "    <tr style=\"text-align: right;\">\n",
       "      <th></th>\n",
       "      <th>C</th>\n",
       "      <th>gamma</th>\n",
       "      <th>mean accuracy</th>\n",
       "      <th>standard deviation</th>\n",
       "    </tr>\n",
       "  </thead>\n",
       "  <tbody>\n",
       "    <tr>\n",
       "      <th>0</th>\n",
       "      <td>0.01</td>\n",
       "      <td>0.1</td>\n",
       "      <td>0.69475</td>\n",
       "      <td>0.009695</td>\n",
       "    </tr>\n",
       "    <tr>\n",
       "      <th>5</th>\n",
       "      <td>0.1</td>\n",
       "      <td>0.1</td>\n",
       "      <td>0.69475</td>\n",
       "      <td>0.009695</td>\n",
       "    </tr>\n",
       "    <tr>\n",
       "      <th>21</th>\n",
       "      <td>10</td>\n",
       "      <td>1</td>\n",
       "      <td>0.25350</td>\n",
       "      <td>0.002151</td>\n",
       "    </tr>\n",
       "    <tr>\n",
       "      <th>6</th>\n",
       "      <td>0.1</td>\n",
       "      <td>1</td>\n",
       "      <td>0.25350</td>\n",
       "      <td>0.002151</td>\n",
       "    </tr>\n",
       "    <tr>\n",
       "      <th>11</th>\n",
       "      <td>1</td>\n",
       "      <td>1</td>\n",
       "      <td>0.25350</td>\n",
       "      <td>0.002151</td>\n",
       "    </tr>\n",
       "  </tbody>\n",
       "</table>\n",
       "</div>"
      ],
      "text/plain": [
       "       C gamma  mean accuracy  standard deviation\n",
       "0   0.01   0.1        0.69475            0.009695\n",
       "5    0.1   0.1        0.69475            0.009695\n",
       "21    10     1        0.25350            0.002151\n",
       "6    0.1     1        0.25350            0.002151\n",
       "11     1     1        0.25350            0.002151"
      ]
     },
     "execution_count": 17,
     "metadata": {},
     "output_type": "execute_result"
    }
   ],
   "source": [
    "# Collect results in a DataFrame\n",
    "df_rbf = pd.DataFrame.from_items([\n",
    "    ('C', grid_cv_rbf.cv_results_['param_C']),\n",
    "    ('gamma',grid_cv_rbf.cv_results_['param_gamma']),\n",
    "    ('mean accuracy',grid_cv_rbf.cv_results_['mean_test_score']),\n",
    "    ('standard deviation',grid_cv_rbf.cv_results_['std_test_score'])\n",
    "])\n",
    "df_rbf.sort_values(by='mean accuracy', ascending=False).head()"
   ]
  },
  {
   "cell_type": "code",
   "execution_count": 23,
   "metadata": {},
   "outputs": [
    {
     "name": "stdout",
     "output_type": "stream",
     "text": [
      "RBF SVM - top accuracy across folds: 0.69475  (std: 0.00969535971483263 ) with C: 0.01 and gamma: 0.1\n"
     ]
    }
   ],
   "source": [
    "# Best combination\n",
    "idx_max = df_rbf.loc[df_rbf['mean accuracy'].idxmax()]\n",
    "\n",
    "print('RBF SVM - top accuracy across folds:',idx_max[2],\n",
    "      ' (std:',idx_max[3], ') with C:',idx_max[0],'and gamma:',idx_max[1])"
   ]
  },
  {
   "cell_type": "markdown",
   "metadata": {},
   "source": [
    "### Test set"
   ]
  },
  {
   "cell_type": "code",
   "execution_count": 27,
   "metadata": {},
   "outputs": [
    {
     "data": {
      "text/plain": [
       "0.817"
      ]
     },
     "execution_count": 27,
     "metadata": {},
     "output_type": "execute_result"
    }
   ],
   "source": [
    "# SVM classifier with a linear kernel\n",
    "svm_linear = SVC(kernel = 'linear', C=0.01)\n",
    "svm_linear.fit(X_train,y_train)\n",
    "svm_linear.score(X_test,y_test)"
   ]
  },
  {
   "cell_type": "code",
   "execution_count": 28,
   "metadata": {},
   "outputs": [
    {
     "data": {
      "text/plain": [
       "0.709"
      ]
     },
     "execution_count": 28,
     "metadata": {},
     "output_type": "execute_result"
    }
   ],
   "source": [
    "# SVM classifier with a RBF kernel\n",
    "svm_rbf = SVC(kernel = 'rbf', C=0.01, gamma=0.1)\n",
    "svm_rbf.fit(X_train,y_train)\n",
    "svm_rbf.score(X_test,y_test)"
   ]
  },
  {
   "cell_type": "code",
   "execution_count": 29,
   "metadata": {},
   "outputs": [
    {
     "name": "stdout",
     "output_type": "stream",
     "text": [
      "Linear SVM accuracy (test set): 82%\n",
      "RBF SVM accuracy (test set): 71%\n"
     ]
    }
   ],
   "source": [
    "print('Linear SVM accuracy (test set): 82%')\n",
    "print('RBF SVM accuracy (test set): 71%')"
   ]
  },
  {
   "cell_type": "code",
   "execution_count": null,
   "metadata": {},
   "outputs": [],
   "source": []
  }
 ],
 "metadata": {
  "kernelspec": {
   "display_name": "Python 3",
   "language": "python",
   "name": "python3"
  },
  "language_info": {
   "codemirror_mode": {
    "name": "ipython",
    "version": 3
   },
   "file_extension": ".py",
   "mimetype": "text/x-python",
   "name": "python",
   "nbconvert_exporter": "python",
   "pygments_lexer": "ipython3",
   "version": "3.6.4"
  }
 },
 "nbformat": 4,
 "nbformat_minor": 2
}
